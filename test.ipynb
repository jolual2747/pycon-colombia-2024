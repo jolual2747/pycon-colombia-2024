{
 "cells": [
  {
   "cell_type": "code",
   "execution_count": 98,
   "metadata": {},
   "outputs": [
    {
     "data": {
      "text/plain": [
       "<Response [200]>"
      ]
     },
     "execution_count": 98,
     "metadata": {},
     "output_type": "execute_result"
    }
   ],
   "source": [
    "import requests\n",
    "\n",
    "res = requests.post(\"http://localhost:8000/chat\",\n",
    "    json={\"text\": \"Qué es Tuya?\"}\n",
    ")\n",
    "res"
   ]
  },
  {
   "cell_type": "code",
   "execution_count": 99,
   "metadata": {},
   "outputs": [
    {
     "data": {
      "text/plain": [
       "b'{\"ai_answer\":\"Tuya es una empresa tecnol\\xc3\\xb3gica que proporciona soluciones para el hogar inteligente, incluyendo dispositivos conectados y plataformas IoT para fabricantes y desarrolladores.\"}'"
      ]
     },
     "execution_count": 99,
     "metadata": {},
     "output_type": "execute_result"
    }
   ],
   "source": [
    "res.content"
   ]
  },
  {
   "cell_type": "code",
   "execution_count": 93,
   "metadata": {},
   "outputs": [],
   "source": [
    "def get_stream(query: str):\n",
    "    s = requests.Session()\n",
    "    with s.post(\n",
    "        \"http://localhost:8000/chat_stream\",\n",
    "        stream=True,\n",
    "        json={\"text\": query}\n",
    "    ) as r:\n",
    "        for line in r.iter_content():\n",
    "            print(line.decode(\"latin-1\"), end=\"\")"
   ]
  },
  {
   "cell_type": "code",
   "execution_count": 83,
   "metadata": {},
   "outputs": [
    {
     "data": {
      "text/plain": [
       "' \"Tuya es una entidad que ofrece tarjetas de crédito con beneficios como descuentos exclusivos en almacenes Éxito\"'"
      ]
     },
     "execution_count": 83,
     "metadata": {},
     "output_type": "execute_result"
    }
   ],
   "source": [
    "byte_data = b' \"Tuya es una entidad que ofrece tarjetas de cr\\xc3\\xa9dito con beneficios como descuentos exclusivos en almacenes \\xc3\\x89xito\"'\n",
    "\n",
    "# Decodificar los bytes a una cadena UTF-8\n",
    "decoded_string = byte_data.decode('utf-8')\n",
    "decoded_string"
   ]
  },
  {
   "cell_type": "code",
   "execution_count": 102,
   "metadata": {},
   "outputs": [
    {
     "name": "stdout",
     "output_type": "stream",
     "text": [
      " \"Tuya is a company that offers credit cards with benefits such as exclusive discounts at certain stores, the ability to accumulate points, and the option to make purchases online or through contactless methods. They also provide cash advances and discounts at specific partner stores.\"\n",
      "}\n",
      "```"
     ]
    }
   ],
   "source": [
    "get_stream(\"Qu'est-ce que Tuya?\")"
   ]
  },
  {
   "cell_type": "code",
   "execution_count": 110,
   "metadata": {},
   "outputs": [
    {
     "name": "stdout",
     "output_type": "stream",
     "text": [
      " \"Soy un asistente de lenguaje natural creado por Tuya S.A. Estoy aquÃ­ para ayudarte con cualquier pregunta que tengas.\"\n",
      "}\n",
      "```"
     ]
    }
   ],
   "source": [
    "s = requests.Session()\n",
    "with s.post(\n",
    "    \"http://localhost:8000/chat_stream\",\n",
    "    stream=True,\n",
    "    json={\"text\": \"Quien eres?\"}\n",
    ") as r:\n",
    "    for line in r.iter_content(chunk_size =1):\n",
    "        print(line.decode(\"latin-1\"), end=\"\")"
   ]
  }
 ],
 "metadata": {
  "kernelspec": {
   "display_name": "pycon-colombia-2024-rDJfgf35-py3.11",
   "language": "python",
   "name": "python3"
  },
  "language_info": {
   "codemirror_mode": {
    "name": "ipython",
    "version": 3
   },
   "file_extension": ".py",
   "mimetype": "text/x-python",
   "name": "python",
   "nbconvert_exporter": "python",
   "pygments_lexer": "ipython3",
   "version": "3.11.8"
  }
 },
 "nbformat": 4,
 "nbformat_minor": 2
}
