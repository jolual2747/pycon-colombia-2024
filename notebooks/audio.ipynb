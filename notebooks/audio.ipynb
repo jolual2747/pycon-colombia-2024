{
 "cells": [
  {
   "cell_type": "markdown",
   "metadata": {},
   "source": [
    "## Music Recommendation with Embeddings and Vector Databases"
   ]
  },
  {
   "cell_type": "markdown",
   "metadata": {},
   "source": [
    "### Libraries, modules and functions"
   ]
  },
  {
   "cell_type": "code",
   "execution_count": null,
   "metadata": {},
   "outputs": [],
   "source": [
    "import os\n",
    "import json\n",
    "import pandas as pd\n",
    "from glob import glob\n",
    "import numpy as np\n",
    "import torch\n",
    "from transformers import AutoFeatureExtractor, AutoModel\n",
    "from IPython.display import Audio as player\n",
    "from datasets import load_dataset, Audio, concatenate_datasets, Dataset\n",
    "from panns_inference import AudioTagging\n",
    "from qdrant_client import QdrantClient\n",
    "from qdrant_client.http import models\n",
    "from utils import generate_random_dataset, download_kaggle_dataset"
   ]
  },
  {
   "cell_type": "markdown",
   "metadata": {},
   "source": [
    "Download Dataset"
   ]
  },
  {
   "cell_type": "code",
   "execution_count": 1,
   "metadata": {},
   "outputs": [
    {
     "name": "stdout",
     "output_type": "stream",
     "text": [
      "Dataset URL: https://www.kaggle.com/datasets/jorgeruizdev/ludwig-music-dataset-moods-and-subgenres\n",
      "License(s): CC-BY-NC-SA-4.0\n",
      "Downloading ludwig-music-dataset-moods-and-subgenres.zip to /mnt/c/Users/ASUS/Documents/Projects/ml_projects/pycon-colombia-2024/notebooks\n"
     ]
    },
    {
     "name": "stderr",
     "output_type": "stream",
     "text": [
      " 25%|██▍       | 2.80G/11.3G [48:09<2:52:47, 880kB/s] "
     ]
    }
   ],
   "source": [
    "download_kaggle_dataset(\"jorgeruizdev/ludwig-music-dataset-moods-and-subgenres\")"
   ]
  },
  {
   "cell_type": "markdown",
   "metadata": {},
   "source": [
    "### Random samples from genres"
   ]
  },
  {
   "cell_type": "code",
   "execution_count": null,
   "metadata": {},
   "outputs": [],
   "source": [
    "genres = [\"latin\", \"pop\", \"reggae\", \"rock\"]\n",
    "ds = generate_random_dataset(genres, n_samples = 130)"
   ]
  },
  {
   "cell_type": "markdown",
   "metadata": {},
   "source": [
    "Extract songs id"
   ]
  },
  {
   "cell_type": "code",
   "execution_count": null,
   "metadata": {},
   "outputs": [],
   "source": [
    "ids = [\n",
    "    (\n",
    "      ds[i]['audio']['path'].split(\"/\")[-1].replace(\".mp3\", '')\n",
    "    )\n",
    "    for i in range(len(ds))\n",
    "]\n",
    "index = [num for num in range(len(ds))]\n",
    "ids[:4]"
   ]
  },
  {
   "cell_type": "code",
   "execution_count": null,
   "metadata": {},
   "outputs": [],
   "source": [
    "ds = ds.add_column(\"index\", index)\n",
    "ds = ds.add_column(\"ids\", ids)\n",
    "ds[-1]"
   ]
  },
  {
   "cell_type": "markdown",
   "metadata": {},
   "source": [
    "Read labels"
   ]
  },
  {
   "cell_type": "code",
   "execution_count": null,
   "metadata": {},
   "outputs": [],
   "source": [
    "label_path = \"../data/unstructured/ludwig-music-dataset-moods-and-subgenres/labels.json\"\n",
    "labels = pd.read_json(label_path)\n",
    "labels.head()"
   ]
  },
  {
   "cell_type": "markdown",
   "metadata": {},
   "source": [
    "Extract metadata"
   ]
  },
  {
   "cell_type": "code",
   "execution_count": null,
   "metadata": {},
   "outputs": [],
   "source": [
    "def get_metadata(x: dict) -> pd.Series:\n",
    "    \"\"\"Extracts metadata from a dict with info about the song.\"\"\"\n",
    "    cols = ['artist', 'genre', 'name', 'subgenres']\n",
    "    list_of_cols = []\n",
    "    for col in cols:\n",
    "        try:\n",
    "            mdata = list(x[col].values())[0]\n",
    "        except:\n",
    "            mdata = \"Unknown\"\n",
    "        list_of_cols.append(mdata)\n",
    "    return pd.Series(list_of_cols, index=cols)"
   ]
  },
  {
   "cell_type": "code",
   "execution_count": null,
   "metadata": {},
   "outputs": [],
   "source": [
    "labels = labels['tracks'].apply(get_metadata).reset_index()\n",
    "labels.head()"
   ]
  },
  {
   "cell_type": "code",
   "execution_count": null,
   "metadata": {},
   "outputs": [],
   "source": [
    "def get_vals(genres: list) -> list:\n",
    "    \"\"\"Extracts subgenres from the dict of song's metadata.\"\"\"\n",
    "    genre_list = []\n",
    "    for dicts in genres:\n",
    "        if type(dicts) != str:\n",
    "            for _, val in dicts.items():\n",
    "                genre_list.append(val)\n",
    "    return genre_list\n",
    "\n",
    "labels['subgenres'] = labels.subgenres.apply(get_vals)\n",
    "labels['subgenres'].head()"
   ]
  },
  {
   "cell_type": "markdown",
   "metadata": {},
   "source": [
    "Select URLs/paths of songs"
   ]
  },
  {
   "cell_type": "code",
   "execution_count": null,
   "metadata": {},
   "outputs": [],
   "source": [
    "files = []\n",
    "for genre in genres:\n",
    "  file_path = os.path.join(\"../data/unstructured/ludwig-music-dataset-moods-and-subgenres\", \"mp3\",\"mp3\", genre, \"*.mp3\")\n",
    "  genre_files = glob(file_path)\n",
    "  files.extend(genre_files)\n",
    "ids = [i.split('/')[-1].replace(\".mp3\", '') for i in files]\n",
    "music_paths = pd.DataFrame(zip(ids, files), columns=[\"ids\", 'urls'])\n",
    "music_paths.head()"
   ]
  },
  {
   "cell_type": "code",
   "execution_count": null,
   "metadata": {},
   "outputs": [],
   "source": []
  }
 ],
 "metadata": {
  "kernelspec": {
   "display_name": "pycon-colombia-2024-EBJdkA5w-py3.11",
   "language": "python",
   "name": "python3"
  },
  "language_info": {
   "codemirror_mode": {
    "name": "ipython",
    "version": 3
   },
   "file_extension": ".py",
   "mimetype": "text/x-python",
   "name": "python",
   "nbconvert_exporter": "python",
   "pygments_lexer": "ipython3",
   "version": "3.11.8"
  }
 },
 "nbformat": 4,
 "nbformat_minor": 2
}
