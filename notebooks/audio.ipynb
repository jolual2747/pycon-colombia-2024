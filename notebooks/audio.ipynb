{
 "cells": [
  {
   "cell_type": "markdown",
   "metadata": {},
   "source": [
    "## Music Recommendation with Embeddings and Vector Databases"
   ]
  },
  {
   "cell_type": "markdown",
   "metadata": {},
   "source": [
    "### Libraries, modules and functions"
   ]
  },
  {
   "cell_type": "code",
   "execution_count": 2,
   "metadata": {},
   "outputs": [
    {
     "name": "stderr",
     "output_type": "stream",
     "text": [
      "/home/josealcocer27/.cache/pypoetry/virtualenvs/pycon-colombia-2024-rDJfgf35-py3.11/lib/python3.11/site-packages/tqdm/auto.py:21: TqdmWarning: IProgress not found. Please update jupyter and ipywidgets. See https://ipywidgets.readthedocs.io/en/stable/user_install.html\n",
      "  from .autonotebook import tqdm as notebook_tqdm\n"
     ]
    }
   ],
   "source": [
    "import os\n",
    "import json\n",
    "import pandas as pd\n",
    "from glob import glob\n",
    "import numpy as np\n",
    "import torch\n",
    "from IPython.display import Audio as player\n",
    "from datasets import load_dataset, Audio, concatenate_datasets, Dataset\n",
    "from panns_inference import AudioTagging\n",
    "from qdrant_client import QdrantClient\n",
    "from qdrant_client.http import models\n",
    "from utils import generate_random_dataset, download_kaggle_dataset"
   ]
  },
  {
   "cell_type": "markdown",
   "metadata": {},
   "source": [
    "Download Dataset"
   ]
  },
  {
   "cell_type": "code",
   "execution_count": 4,
   "metadata": {},
   "outputs": [
    {
     "name": "stdout",
     "output_type": "stream",
     "text": [
      "Dataset URL: https://www.kaggle.com/datasets/jorgeruizdev/ludwig-music-dataset-moods-and-subgenres\n",
      "License(s): CC-BY-NC-SA-4.0\n",
      "Downloading ludwig-music-dataset-moods-and-subgenres.zip to /home/josealcocer27/pycon-colombia-2024/notebooks\n"
     ]
    },
    {
     "name": "stderr",
     "output_type": "stream",
     "text": [
      "100%|█████████▉| 11.3G/11.3G [08:27<00:00, 30.0MB/s]  "
     ]
    },
    {
     "name": "stdout",
     "output_type": "stream",
     "text": [
      "\n"
     ]
    },
    {
     "name": "stderr",
     "output_type": "stream",
     "text": [
      "100%|██████████| 11.3G/11.3G [08:27<00:00, 23.9MB/s]\n"
     ]
    }
   ],
   "source": [
    "download_kaggle_dataset(\"jorgeruizdev/ludwig-music-dataset-moods-and-subgenres\")"
   ]
  },
  {
   "cell_type": "markdown",
   "metadata": {},
   "source": [
    "### Random samples from genres"
   ]
  },
  {
   "cell_type": "code",
   "execution_count": 5,
   "metadata": {},
   "outputs": [
    {
     "name": "stdout",
     "output_type": "stream",
     "text": [
      "Loading latin...\n"
     ]
    },
    {
     "name": "stderr",
     "output_type": "stream",
     "text": [
      "Generating train split: 979 examples [00:00, 5206.98 examples/s]\n"
     ]
    },
    {
     "name": "stdout",
     "output_type": "stream",
     "text": [
      "Loading pop...\n"
     ]
    },
    {
     "name": "stderr",
     "output_type": "stream",
     "text": [
      "Generating train split: 659 examples [00:00, 8959.86 examples/s]\n"
     ]
    },
    {
     "name": "stdout",
     "output_type": "stream",
     "text": [
      "Loading reggae...\n"
     ]
    },
    {
     "name": "stderr",
     "output_type": "stream",
     "text": [
      "Generating train split: 136 examples [00:00, 7622.03 examples/s]\n"
     ]
    },
    {
     "name": "stdout",
     "output_type": "stream",
     "text": [
      "Loading rock...\n"
     ]
    },
    {
     "name": "stderr",
     "output_type": "stream",
     "text": [
      "Generating train split: 3471 examples [00:00, 14687.74 examples/s]\n"
     ]
    }
   ],
   "source": [
    "genres = [\"latin\", \"pop\", \"reggae\", \"rock\"]\n",
    "ds = generate_random_dataset(genres, n_samples = 130)"
   ]
  },
  {
   "cell_type": "markdown",
   "metadata": {},
   "source": [
    "Extract songs id"
   ]
  },
  {
   "cell_type": "code",
   "execution_count": 6,
   "metadata": {},
   "outputs": [
    {
     "data": {
      "text/plain": [
       "['3zsUrcSjHX6d8DeIYyj1bE',\n",
       " '4NzcnIx2X1zq2DGVPdP8IY',\n",
       " '5jZQJVYHgH01c5C3LMkxZ1',\n",
       " '6kvMpEyqrGBNhZ4Ztb8TPo']"
      ]
     },
     "execution_count": 6,
     "metadata": {},
     "output_type": "execute_result"
    }
   ],
   "source": [
    "ids = [\n",
    "    (\n",
    "      ds[i]['audio']['path'].split(\"/\")[-1].replace(\".mp3\", '')\n",
    "    )\n",
    "    for i in range(len(ds))\n",
    "]\n",
    "index = [num for num in range(len(ds))]\n",
    "ids[:4]"
   ]
  },
  {
   "cell_type": "code",
   "execution_count": 7,
   "metadata": {},
   "outputs": [
    {
     "name": "stderr",
     "output_type": "stream",
     "text": [
      "Flattening the indices: 100%|██████████| 520/520 [00:00<00:00, 21183.35 examples/s]\n"
     ]
    },
    {
     "data": {
      "text/plain": [
       "{'audio': {'path': '/home/josealcocer27/pycon-colombia-2024/data/unstructured/ludwig-music-dataset-moods-and-subgenres/mp3/mp3/latin/6K5UtSAXChS6Rpm2NZJnrF.mp3',\n",
       "  'array': array([ 0.00000000e+00, -4.89616436e-09,  3.03773473e-09, ...,\n",
       "         -3.03649813e-01, -3.14786136e-01, -2.29230165e-01]),\n",
       "  'sampling_rate': 44100},\n",
       " 'index': 519,\n",
       " 'ids': '6K5UtSAXChS6Rpm2NZJnrF'}"
      ]
     },
     "execution_count": 7,
     "metadata": {},
     "output_type": "execute_result"
    }
   ],
   "source": [
    "ds = ds.add_column(\"index\", index)\n",
    "ds = ds.add_column(\"ids\", ids)\n",
    "ds[-1]"
   ]
  },
  {
   "cell_type": "markdown",
   "metadata": {},
   "source": [
    "Read labels"
   ]
  },
  {
   "cell_type": "code",
   "execution_count": 8,
   "metadata": {},
   "outputs": [
    {
     "data": {
      "text/html": [
       "<div>\n",
       "<style scoped>\n",
       "    .dataframe tbody tr th:only-of-type {\n",
       "        vertical-align: middle;\n",
       "    }\n",
       "\n",
       "    .dataframe tbody tr th {\n",
       "        vertical-align: top;\n",
       "    }\n",
       "\n",
       "    .dataframe thead th {\n",
       "        text-align: right;\n",
       "    }\n",
       "</style>\n",
       "<table border=\"1\" class=\"dataframe\">\n",
       "  <thead>\n",
       "    <tr style=\"text-align: right;\">\n",
       "      <th></th>\n",
       "      <th>tracks</th>\n",
       "    </tr>\n",
       "  </thead>\n",
       "  <tbody>\n",
       "    <tr>\n",
       "      <th>35ecMLCJ1x2giJuvHLrI1t</th>\n",
       "      <td>{'otherSubgenres': {'L': [{'S': 'electronic---...</td>\n",
       "    </tr>\n",
       "    <tr>\n",
       "      <th>3p0EUhkUeCNrBIZwkjmeYe</th>\n",
       "      <td>{'otherSubgenres': {'L': []}, 'artist': {'S': ...</td>\n",
       "    </tr>\n",
       "    <tr>\n",
       "      <th>0rb6HvdvWJRkyhxsfFf1ep</th>\n",
       "      <td>{'otherSubgenres': {'L': [{'S': 'rock'}, {'S':...</td>\n",
       "    </tr>\n",
       "    <tr>\n",
       "      <th>4ssD5IkaicvM3L2Ff8FPWQ</th>\n",
       "      <td>{'otherSubgenres': {'L': []}, 'artist': {'S': ...</td>\n",
       "    </tr>\n",
       "    <tr>\n",
       "      <th>586ncAs8cYRTBlrxMDfmSP</th>\n",
       "      <td>{'otherSubgenres': {'L': [{'S': 'electronic---...</td>\n",
       "    </tr>\n",
       "  </tbody>\n",
       "</table>\n",
       "</div>"
      ],
      "text/plain": [
       "                                                                   tracks\n",
       "35ecMLCJ1x2giJuvHLrI1t  {'otherSubgenres': {'L': [{'S': 'electronic---...\n",
       "3p0EUhkUeCNrBIZwkjmeYe  {'otherSubgenres': {'L': []}, 'artist': {'S': ...\n",
       "0rb6HvdvWJRkyhxsfFf1ep  {'otherSubgenres': {'L': [{'S': 'rock'}, {'S':...\n",
       "4ssD5IkaicvM3L2Ff8FPWQ  {'otherSubgenres': {'L': []}, 'artist': {'S': ...\n",
       "586ncAs8cYRTBlrxMDfmSP  {'otherSubgenres': {'L': [{'S': 'electronic---..."
      ]
     },
     "execution_count": 8,
     "metadata": {},
     "output_type": "execute_result"
    }
   ],
   "source": [
    "label_path = \"../data/unstructured/ludwig-music-dataset-moods-and-subgenres/labels.json\"\n",
    "labels = pd.read_json(label_path)\n",
    "labels.head()"
   ]
  },
  {
   "cell_type": "markdown",
   "metadata": {},
   "source": [
    "Extract metadata"
   ]
  },
  {
   "cell_type": "code",
   "execution_count": 9,
   "metadata": {},
   "outputs": [],
   "source": [
    "def get_metadata(x: dict) -> pd.Series:\n",
    "    \"\"\"Extracts metadata from a dict with info about the song.\"\"\"\n",
    "    cols = ['artist', 'genre', 'name', 'subgenres']\n",
    "    list_of_cols = []\n",
    "    for col in cols:\n",
    "        try:\n",
    "            mdata = list(x[col].values())[0]\n",
    "        except:\n",
    "            mdata = \"Unknown\"\n",
    "        list_of_cols.append(mdata)\n",
    "    return pd.Series(list_of_cols, index=cols)"
   ]
  },
  {
   "cell_type": "code",
   "execution_count": 10,
   "metadata": {},
   "outputs": [
    {
     "data": {
      "text/html": [
       "<div>\n",
       "<style scoped>\n",
       "    .dataframe tbody tr th:only-of-type {\n",
       "        vertical-align: middle;\n",
       "    }\n",
       "\n",
       "    .dataframe tbody tr th {\n",
       "        vertical-align: top;\n",
       "    }\n",
       "\n",
       "    .dataframe thead th {\n",
       "        text-align: right;\n",
       "    }\n",
       "</style>\n",
       "<table border=\"1\" class=\"dataframe\">\n",
       "  <thead>\n",
       "    <tr style=\"text-align: right;\">\n",
       "      <th></th>\n",
       "      <th>index</th>\n",
       "      <th>artist</th>\n",
       "      <th>genre</th>\n",
       "      <th>name</th>\n",
       "      <th>subgenres</th>\n",
       "    </tr>\n",
       "  </thead>\n",
       "  <tbody>\n",
       "    <tr>\n",
       "      <th>0</th>\n",
       "      <td>35ecMLCJ1x2giJuvHLrI1t</td>\n",
       "      <td>Riovolt</td>\n",
       "      <td>electronic</td>\n",
       "      <td>It Ain't Over 'till It's Over</td>\n",
       "      <td>[{'S': 'electronic---ambient'}, {'S': 'electro...</td>\n",
       "    </tr>\n",
       "    <tr>\n",
       "      <th>1</th>\n",
       "      <td>3p0EUhkUeCNrBIZwkjmeYe</td>\n",
       "      <td>R.L. Burnside</td>\n",
       "      <td>blues</td>\n",
       "      <td>Fireman Ring the Bell</td>\n",
       "      <td>[{'S': 'blues---country blues'}]</td>\n",
       "    </tr>\n",
       "    <tr>\n",
       "      <th>2</th>\n",
       "      <td>0rb6HvdvWJRkyhxsfFf1ep</td>\n",
       "      <td>Chapterhouse</td>\n",
       "      <td>rock</td>\n",
       "      <td>Falling Down</td>\n",
       "      <td>[{'S': 'rock---shoegaze'}]</td>\n",
       "    </tr>\n",
       "    <tr>\n",
       "      <th>3</th>\n",
       "      <td>4ssD5IkaicvM3L2Ff8FPWQ</td>\n",
       "      <td>Lowell Fulsom</td>\n",
       "      <td>funk / soul</td>\n",
       "      <td>Tramp</td>\n",
       "      <td>[{'S': 'funk / soul---rhythm &amp; blues'}]</td>\n",
       "    </tr>\n",
       "    <tr>\n",
       "      <th>4</th>\n",
       "      <td>586ncAs8cYRTBlrxMDfmSP</td>\n",
       "      <td>Paul Ellis</td>\n",
       "      <td>electronic</td>\n",
       "      <td>Dissolve</td>\n",
       "      <td>[{'S': 'electronic---ambient'}]</td>\n",
       "    </tr>\n",
       "  </tbody>\n",
       "</table>\n",
       "</div>"
      ],
      "text/plain": [
       "                    index         artist        genre  \\\n",
       "0  35ecMLCJ1x2giJuvHLrI1t        Riovolt   electronic   \n",
       "1  3p0EUhkUeCNrBIZwkjmeYe  R.L. Burnside        blues   \n",
       "2  0rb6HvdvWJRkyhxsfFf1ep   Chapterhouse         rock   \n",
       "3  4ssD5IkaicvM3L2Ff8FPWQ  Lowell Fulsom  funk / soul   \n",
       "4  586ncAs8cYRTBlrxMDfmSP     Paul Ellis   electronic   \n",
       "\n",
       "                            name  \\\n",
       "0  It Ain't Over 'till It's Over   \n",
       "1          Fireman Ring the Bell   \n",
       "2                   Falling Down   \n",
       "3                          Tramp   \n",
       "4                       Dissolve   \n",
       "\n",
       "                                           subgenres  \n",
       "0  [{'S': 'electronic---ambient'}, {'S': 'electro...  \n",
       "1                   [{'S': 'blues---country blues'}]  \n",
       "2                         [{'S': 'rock---shoegaze'}]  \n",
       "3            [{'S': 'funk / soul---rhythm & blues'}]  \n",
       "4                    [{'S': 'electronic---ambient'}]  "
      ]
     },
     "execution_count": 10,
     "metadata": {},
     "output_type": "execute_result"
    }
   ],
   "source": [
    "labels = labels['tracks'].apply(get_metadata).reset_index()\n",
    "labels.head()"
   ]
  },
  {
   "cell_type": "code",
   "execution_count": 11,
   "metadata": {},
   "outputs": [
    {
     "data": {
      "text/plain": [
       "0    [electronic---ambient, electronic---downtempo,...\n",
       "1                              [blues---country blues]\n",
       "2                                    [rock---shoegaze]\n",
       "3                       [funk / soul---rhythm & blues]\n",
       "4                               [electronic---ambient]\n",
       "Name: subgenres, dtype: object"
      ]
     },
     "execution_count": 11,
     "metadata": {},
     "output_type": "execute_result"
    }
   ],
   "source": [
    "def get_vals(genres: list) -> list:\n",
    "    \"\"\"Extracts subgenres from the dict of song's metadata.\"\"\"\n",
    "    genre_list = []\n",
    "    for dicts in genres:\n",
    "        if type(dicts) != str:\n",
    "            for _, val in dicts.items():\n",
    "                genre_list.append(val)\n",
    "    return genre_list\n",
    "\n",
    "labels['subgenres'] = labels.subgenres.apply(get_vals)\n",
    "labels['subgenres'].head()"
   ]
  },
  {
   "cell_type": "markdown",
   "metadata": {},
   "source": [
    "Select URLs/paths of songs"
   ]
  },
  {
   "cell_type": "code",
   "execution_count": 12,
   "metadata": {},
   "outputs": [
    {
     "data": {
      "text/html": [
       "<div>\n",
       "<style scoped>\n",
       "    .dataframe tbody tr th:only-of-type {\n",
       "        vertical-align: middle;\n",
       "    }\n",
       "\n",
       "    .dataframe tbody tr th {\n",
       "        vertical-align: top;\n",
       "    }\n",
       "\n",
       "    .dataframe thead th {\n",
       "        text-align: right;\n",
       "    }\n",
       "</style>\n",
       "<table border=\"1\" class=\"dataframe\">\n",
       "  <thead>\n",
       "    <tr style=\"text-align: right;\">\n",
       "      <th></th>\n",
       "      <th>ids</th>\n",
       "      <th>urls</th>\n",
       "    </tr>\n",
       "  </thead>\n",
       "  <tbody>\n",
       "    <tr>\n",
       "      <th>0</th>\n",
       "      <td>6ZgIoAuzxOcb7mfpFoGV58</td>\n",
       "      <td>../data/unstructured/ludwig-music-dataset-mood...</td>\n",
       "    </tr>\n",
       "    <tr>\n",
       "      <th>1</th>\n",
       "      <td>03tbpnBQ9kiAL8GX0ouZUG</td>\n",
       "      <td>../data/unstructured/ludwig-music-dataset-mood...</td>\n",
       "    </tr>\n",
       "    <tr>\n",
       "      <th>2</th>\n",
       "      <td>17W4YBY4SDiotsptTLghvO</td>\n",
       "      <td>../data/unstructured/ludwig-music-dataset-mood...</td>\n",
       "    </tr>\n",
       "    <tr>\n",
       "      <th>3</th>\n",
       "      <td>0RqeKSVKmyjmuG6Ky3Nu11</td>\n",
       "      <td>../data/unstructured/ludwig-music-dataset-mood...</td>\n",
       "    </tr>\n",
       "    <tr>\n",
       "      <th>4</th>\n",
       "      <td>16RKMsCuOBWMu9YnbPyegG</td>\n",
       "      <td>../data/unstructured/ludwig-music-dataset-mood...</td>\n",
       "    </tr>\n",
       "  </tbody>\n",
       "</table>\n",
       "</div>"
      ],
      "text/plain": [
       "                      ids                                               urls\n",
       "0  6ZgIoAuzxOcb7mfpFoGV58  ../data/unstructured/ludwig-music-dataset-mood...\n",
       "1  03tbpnBQ9kiAL8GX0ouZUG  ../data/unstructured/ludwig-music-dataset-mood...\n",
       "2  17W4YBY4SDiotsptTLghvO  ../data/unstructured/ludwig-music-dataset-mood...\n",
       "3  0RqeKSVKmyjmuG6Ky3Nu11  ../data/unstructured/ludwig-music-dataset-mood...\n",
       "4  16RKMsCuOBWMu9YnbPyegG  ../data/unstructured/ludwig-music-dataset-mood..."
      ]
     },
     "execution_count": 12,
     "metadata": {},
     "output_type": "execute_result"
    }
   ],
   "source": [
    "files = []\n",
    "for genre in genres:\n",
    "  file_path = os.path.join(\"../data/unstructured/ludwig-music-dataset-moods-and-subgenres\", \"mp3\",\"mp3\", genre, \"*.mp3\")\n",
    "  genre_files = glob(file_path)\n",
    "  files.extend(genre_files)\n",
    "ids = [i.split('/')[-1].replace(\".mp3\", '') for i in files]\n",
    "music_paths = pd.DataFrame(zip(ids, files), columns=[\"ids\", 'urls'])\n",
    "music_paths.head()"
   ]
  },
  {
   "cell_type": "markdown",
   "metadata": {},
   "source": [
    "Merge metadata: Genre, Subgenres, Song Name, URLs"
   ]
  },
  {
   "cell_type": "code",
   "execution_count": 13,
   "metadata": {},
   "outputs": [
    {
     "data": {
      "text/html": [
       "<div>\n",
       "<style scoped>\n",
       "    .dataframe tbody tr th:only-of-type {\n",
       "        vertical-align: middle;\n",
       "    }\n",
       "\n",
       "    .dataframe tbody tr th {\n",
       "        vertical-align: top;\n",
       "    }\n",
       "\n",
       "    .dataframe thead th {\n",
       "        text-align: right;\n",
       "    }\n",
       "</style>\n",
       "<table border=\"1\" class=\"dataframe\">\n",
       "  <thead>\n",
       "    <tr style=\"text-align: right;\">\n",
       "      <th></th>\n",
       "      <th>index</th>\n",
       "      <th>ids</th>\n",
       "      <th>artist</th>\n",
       "      <th>genre</th>\n",
       "      <th>name</th>\n",
       "      <th>subgenres</th>\n",
       "      <th>urls</th>\n",
       "    </tr>\n",
       "  </thead>\n",
       "  <tbody>\n",
       "    <tr>\n",
       "      <th>0</th>\n",
       "      <td>0</td>\n",
       "      <td>3zsUrcSjHX6d8DeIYyj1bE</td>\n",
       "      <td>The Jesus and Mary Chain</td>\n",
       "      <td>rock</td>\n",
       "      <td>Far Gone and Out</td>\n",
       "      <td>[rock---shoegaze]</td>\n",
       "      <td>../data/unstructured/ludwig-music-dataset-mood...</td>\n",
       "    </tr>\n",
       "    <tr>\n",
       "      <th>1</th>\n",
       "      <td>1</td>\n",
       "      <td>4NzcnIx2X1zq2DGVPdP8IY</td>\n",
       "      <td>Virus</td>\n",
       "      <td>rock</td>\n",
       "      <td>Shutout</td>\n",
       "      <td>[rock---art rock]</td>\n",
       "      <td>../data/unstructured/ludwig-music-dataset-mood...</td>\n",
       "    </tr>\n",
       "    <tr>\n",
       "      <th>2</th>\n",
       "      <td>2</td>\n",
       "      <td>5jZQJVYHgH01c5C3LMkxZ1</td>\n",
       "      <td>Melvins</td>\n",
       "      <td>rock</td>\n",
       "      <td>Missing</td>\n",
       "      <td>[rock---alternative rock, rock---punk]</td>\n",
       "      <td>../data/unstructured/ludwig-music-dataset-mood...</td>\n",
       "    </tr>\n",
       "    <tr>\n",
       "      <th>3</th>\n",
       "      <td>3</td>\n",
       "      <td>6kvMpEyqrGBNhZ4Ztb8TPo</td>\n",
       "      <td>DIIV</td>\n",
       "      <td>rock</td>\n",
       "      <td>Take Your Time</td>\n",
       "      <td>[rock---shoegaze]</td>\n",
       "      <td>../data/unstructured/ludwig-music-dataset-mood...</td>\n",
       "    </tr>\n",
       "    <tr>\n",
       "      <th>4</th>\n",
       "      <td>4</td>\n",
       "      <td>1a47wd7JsslfmklBtIU6QS</td>\n",
       "      <td>Hope of the States</td>\n",
       "      <td>rock</td>\n",
       "      <td>66 Sleepers to Summer</td>\n",
       "      <td>[rock---post rock]</td>\n",
       "      <td>../data/unstructured/ludwig-music-dataset-mood...</td>\n",
       "    </tr>\n",
       "  </tbody>\n",
       "</table>\n",
       "</div>"
      ],
      "text/plain": [
       "   index                     ids                    artist genre  \\\n",
       "0      0  3zsUrcSjHX6d8DeIYyj1bE  The Jesus and Mary Chain  rock   \n",
       "1      1  4NzcnIx2X1zq2DGVPdP8IY                     Virus  rock   \n",
       "2      2  5jZQJVYHgH01c5C3LMkxZ1                   Melvins  rock   \n",
       "3      3  6kvMpEyqrGBNhZ4Ztb8TPo                      DIIV  rock   \n",
       "4      4  1a47wd7JsslfmklBtIU6QS        Hope of the States  rock   \n",
       "\n",
       "                    name                               subgenres  \\\n",
       "0       Far Gone and Out                       [rock---shoegaze]   \n",
       "1                Shutout                       [rock---art rock]   \n",
       "2                Missing  [rock---alternative rock, rock---punk]   \n",
       "3         Take Your Time                       [rock---shoegaze]   \n",
       "4  66 Sleepers to Summer                      [rock---post rock]   \n",
       "\n",
       "                                                urls  \n",
       "0  ../data/unstructured/ludwig-music-dataset-mood...  \n",
       "1  ../data/unstructured/ludwig-music-dataset-mood...  \n",
       "2  ../data/unstructured/ludwig-music-dataset-mood...  \n",
       "3  ../data/unstructured/ludwig-music-dataset-mood...  \n",
       "4  ../data/unstructured/ludwig-music-dataset-mood...  "
      ]
     },
     "execution_count": 13,
     "metadata": {},
     "output_type": "execute_result"
    }
   ],
   "source": [
    "metadata = ds.select_columns(['index', 'ids']) \\\n",
    "                     .to_pandas() \\\n",
    "                     .merge(right=labels, how=\"left\", left_on='ids', right_on='index') \\\n",
    "                     .merge(right=music_paths, how=\"left\", left_on='ids', right_on='ids') \\\n",
    "                     .drop(\"index_y\", axis=1) \\\n",
    "                     .rename({\"index_x\": \"index\"}, axis=1)\n",
    "\n",
    "metadata.head()"
   ]
  },
  {
   "cell_type": "code",
   "execution_count": 14,
   "metadata": {},
   "outputs": [
    {
     "data": {
      "text/plain": [
       "[{'artist': 'The Jesus and Mary Chain',\n",
       "  'genre': 'rock',\n",
       "  'name': 'Far Gone and Out',\n",
       "  'subgenres': ['rock---shoegaze'],\n",
       "  'urls': '../data/unstructured/ludwig-music-dataset-moods-and-subgenres/mp3/mp3/rock/3zsUrcSjHX6d8DeIYyj1bE.mp3'},\n",
       " {'artist': 'Virus',\n",
       "  'genre': 'rock',\n",
       "  'name': 'Shutout',\n",
       "  'subgenres': ['rock---art rock'],\n",
       "  'urls': '../data/unstructured/ludwig-music-dataset-moods-and-subgenres/mp3/mp3/rock/4NzcnIx2X1zq2DGVPdP8IY.mp3'}]"
      ]
     },
     "execution_count": 14,
     "metadata": {},
     "output_type": "execute_result"
    }
   ],
   "source": [
    "payload = metadata.drop(['index', 'ids'], axis=1).to_dict(orient=\"records\")\n",
    "payload[:2]"
   ]
  },
  {
   "cell_type": "markdown",
   "metadata": {},
   "source": [
    "### Embeddings"
   ]
  },
  {
   "cell_type": "code",
   "execution_count": null,
   "metadata": {},
   "outputs": [],
   "source": [
    "at = AudioTagging(checkpoint_path=None, device='cuda')"
   ]
  },
  {
   "cell_type": "code",
   "execution_count": 19,
   "metadata": {},
   "outputs": [],
   "source": [
    "def get_embeddings(batch: dict):\n",
    "    \"\"\"Generates embeddings from Dataset's batch with PANNs.\"\"\"\n",
    "    arrays = [torch.tensor(val['array'], dtype=torch.float64) for val in batch['audio']]\n",
    "    inputs = torch.nn.utils.rnn.pad_sequence(arrays, batch_first=True, padding_value=0).type(torch.cuda.FloatTensor)\n",
    "    with torch.no_grad():\n",
    "        _, embedding = at.inference(inputs)\n",
    "    batch['panns_embeddings'] = embedding\n",
    "    return batch"
   ]
  },
  {
   "cell_type": "code",
   "execution_count": 20,
   "metadata": {},
   "outputs": [
    {
     "name": "stderr",
     "output_type": "stream",
     "text": [
      "Map:  88%|████████▊ | 456/520 [20:52<03:15,  3.05s/ examples]"
     ]
    }
   ],
   "source": [
    "with torch.inference_mode():\n",
    "    ds = ds.map(get_embeddings, batched=True, batch_size=8)"
   ]
  },
  {
   "cell_type": "markdown",
   "metadata": {},
   "source": [
    "### Qdrant Vector Database"
   ]
  },
  {
   "cell_type": "markdown",
   "metadata": {},
   "source": [
    "Create client"
   ]
  },
  {
   "cell_type": "code",
   "execution_count": null,
   "metadata": {},
   "outputs": [],
   "source": [
    "client = QdrantClient(host=\"localhost\", port=6333)"
   ]
  },
  {
   "cell_type": "markdown",
   "metadata": {},
   "source": [
    "Create client"
   ]
  },
  {
   "cell_type": "code",
   "execution_count": null,
   "metadata": {},
   "outputs": [],
   "source": [
    "my_collection = \"music_collection3\"\n",
    "client.recreate_collection(\n",
    "    collection_name=my_collection,\n",
    "    vectors_config=models.VectorParams(size=2048, distance=models.Distance.COSINE)\n",
    ")"
   ]
  },
  {
   "cell_type": "markdown",
   "metadata": {},
   "source": [
    "Upsert records"
   ]
  },
  {
   "cell_type": "code",
   "execution_count": null,
   "metadata": {},
   "outputs": [],
   "source": [
    "ds_pandas = ds.to_pandas()\n",
    "\n",
    "client.upsert(\n",
    "    collection_name=my_collection,\n",
    "    points=models.Batch(\n",
    "        ids=ds_pandas['index'],\n",
    "        vectors=ds_pandas['panns_embeddings'],\n",
    "        payloads=payload\n",
    "    )\n",
    ")"
   ]
  },
  {
   "cell_type": "code",
   "execution_count": null,
   "metadata": {},
   "outputs": [],
   "source": []
  }
 ],
 "metadata": {
  "kernelspec": {
   "display_name": "pycon-colombia-2024-EBJdkA5w-py3.11",
   "language": "python",
   "name": "python3"
  },
  "language_info": {
   "codemirror_mode": {
    "name": "ipython",
    "version": 3
   },
   "file_extension": ".py",
   "mimetype": "text/x-python",
   "name": "python",
   "nbconvert_exporter": "python",
   "pygments_lexer": "ipython3",
   "version": "3.11.8"
  }
 },
 "nbformat": 4,
 "nbformat_minor": 2
}
