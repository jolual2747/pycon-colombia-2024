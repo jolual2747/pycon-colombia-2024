{
 "cells": [
  {
   "cell_type": "markdown",
   "metadata": {},
   "source": [
    "## Music Recommendation with Embeddings and Vector Databases"
   ]
  },
  {
   "cell_type": "markdown",
   "metadata": {},
   "source": [
    "### Libraries, modules and functions"
   ]
  },
  {
   "cell_type": "code",
   "execution_count": 1,
   "metadata": {},
   "outputs": [
    {
     "name": "stderr",
     "output_type": "stream",
     "text": [
      "/home/josealcocer27/.cache/pypoetry/virtualenvs/pycon-colombia-2024-rDJfgf35-py3.11/lib/python3.11/site-packages/tqdm/auto.py:21: TqdmWarning: IProgress not found. Please update jupyter and ipywidgets. See https://ipywidgets.readthedocs.io/en/stable/user_install.html\n",
      "  from .autonotebook import tqdm as notebook_tqdm\n"
     ]
    }
   ],
   "source": [
    "import os\n",
    "import json\n",
    "import pandas as pd\n",
    "from glob import glob\n",
    "import numpy as np\n",
    "import torch\n",
    "from IPython.display import Audio as player\n",
    "from datasets import load_dataset, Audio, concatenate_datasets, Dataset\n",
    "from panns_inference import AudioTagging\n",
    "from qdrant_client import QdrantClient\n",
    "from qdrant_client.http import models\n",
    "from utils.audio import generate_random_dataset, download_kaggle_dataset"
   ]
  },
  {
   "cell_type": "markdown",
   "metadata": {},
   "source": [
    "Download Dataset"
   ]
  },
  {
   "cell_type": "code",
   "execution_count": 4,
   "metadata": {},
   "outputs": [
    {
     "name": "stdout",
     "output_type": "stream",
     "text": [
      "Dataset URL: https://www.kaggle.com/datasets/jorgeruizdev/ludwig-music-dataset-moods-and-subgenres\n",
      "License(s): CC-BY-NC-SA-4.0\n",
      "Downloading ludwig-music-dataset-moods-and-subgenres.zip to /home/josealcocer27/pycon-colombia-2024/notebooks\n"
     ]
    },
    {
     "name": "stderr",
     "output_type": "stream",
     "text": [
      "100%|█████████▉| 11.3G/11.3G [08:27<00:00, 30.0MB/s]  "
     ]
    },
    {
     "name": "stdout",
     "output_type": "stream",
     "text": [
      "\n"
     ]
    },
    {
     "name": "stderr",
     "output_type": "stream",
     "text": [
      "100%|██████████| 11.3G/11.3G [08:27<00:00, 23.9MB/s]\n"
     ]
    }
   ],
   "source": [
    "download_kaggle_dataset(\"jorgeruizdev/ludwig-music-dataset-moods-and-subgenres\")"
   ]
  },
  {
   "cell_type": "markdown",
   "metadata": {},
   "source": [
    "### Random samples from genres"
   ]
  },
  {
   "cell_type": "code",
   "execution_count": 2,
   "metadata": {},
   "outputs": [
    {
     "name": "stdout",
     "output_type": "stream",
     "text": [
      "Loading latin...\n",
      "Loading pop...\n",
      "Loading reggae...\n",
      "Loading rock...\n"
     ]
    }
   ],
   "source": [
    "genres = [\"latin\", \"pop\", \"reggae\", \"rock\"]\n",
    "ds = generate_random_dataset(genres, n_samples = 130)"
   ]
  },
  {
   "cell_type": "markdown",
   "metadata": {},
   "source": [
    "Extract songs id"
   ]
  },
  {
   "cell_type": "code",
   "execution_count": 3,
   "metadata": {},
   "outputs": [
    {
     "data": {
      "text/plain": [
       "['3zsUrcSjHX6d8DeIYyj1bE',\n",
       " '4NzcnIx2X1zq2DGVPdP8IY',\n",
       " '5jZQJVYHgH01c5C3LMkxZ1',\n",
       " '6kvMpEyqrGBNhZ4Ztb8TPo']"
      ]
     },
     "execution_count": 3,
     "metadata": {},
     "output_type": "execute_result"
    }
   ],
   "source": [
    "ids = [\n",
    "    (\n",
    "      ds[i]['audio']['path'].split(\"/\")[-1].replace(\".mp3\", '')\n",
    "    )\n",
    "    for i in range(len(ds))\n",
    "]\n",
    "index = [num for num in range(len(ds))]\n",
    "ids[:4]"
   ]
  },
  {
   "cell_type": "code",
   "execution_count": 4,
   "metadata": {},
   "outputs": [
    {
     "data": {
      "text/plain": [
       "{'audio': {'path': '/home/josealcocer27/pycon-colombia-2024/data/unstructured/ludwig-music-dataset-moods-and-subgenres/mp3/mp3/latin/6K5UtSAXChS6Rpm2NZJnrF.mp3',\n",
       "  'array': array([ 0.00000000e+00, -4.89616436e-09,  3.03773473e-09, ...,\n",
       "         -3.03649813e-01, -3.14786136e-01, -2.29230165e-01]),\n",
       "  'sampling_rate': 44100},\n",
       " 'index': 519,\n",
       " 'ids': '6K5UtSAXChS6Rpm2NZJnrF'}"
      ]
     },
     "execution_count": 4,
     "metadata": {},
     "output_type": "execute_result"
    }
   ],
   "source": [
    "ds = ds.add_column(\"index\", index)\n",
    "ds = ds.add_column(\"ids\", ids)\n",
    "ds[-1]"
   ]
  },
  {
   "cell_type": "markdown",
   "metadata": {},
   "source": [
    "Read labels"
   ]
  },
  {
   "cell_type": "code",
   "execution_count": 5,
   "metadata": {},
   "outputs": [
    {
     "data": {
      "text/html": [
       "<div>\n",
       "<style scoped>\n",
       "    .dataframe tbody tr th:only-of-type {\n",
       "        vertical-align: middle;\n",
       "    }\n",
       "\n",
       "    .dataframe tbody tr th {\n",
       "        vertical-align: top;\n",
       "    }\n",
       "\n",
       "    .dataframe thead th {\n",
       "        text-align: right;\n",
       "    }\n",
       "</style>\n",
       "<table border=\"1\" class=\"dataframe\">\n",
       "  <thead>\n",
       "    <tr style=\"text-align: right;\">\n",
       "      <th></th>\n",
       "      <th>tracks</th>\n",
       "    </tr>\n",
       "  </thead>\n",
       "  <tbody>\n",
       "    <tr>\n",
       "      <th>35ecMLCJ1x2giJuvHLrI1t</th>\n",
       "      <td>{'otherSubgenres': {'L': [{'S': 'electronic---...</td>\n",
       "    </tr>\n",
       "    <tr>\n",
       "      <th>3p0EUhkUeCNrBIZwkjmeYe</th>\n",
       "      <td>{'otherSubgenres': {'L': []}, 'artist': {'S': ...</td>\n",
       "    </tr>\n",
       "    <tr>\n",
       "      <th>0rb6HvdvWJRkyhxsfFf1ep</th>\n",
       "      <td>{'otherSubgenres': {'L': [{'S': 'rock'}, {'S':...</td>\n",
       "    </tr>\n",
       "    <tr>\n",
       "      <th>4ssD5IkaicvM3L2Ff8FPWQ</th>\n",
       "      <td>{'otherSubgenres': {'L': []}, 'artist': {'S': ...</td>\n",
       "    </tr>\n",
       "    <tr>\n",
       "      <th>586ncAs8cYRTBlrxMDfmSP</th>\n",
       "      <td>{'otherSubgenres': {'L': [{'S': 'electronic---...</td>\n",
       "    </tr>\n",
       "  </tbody>\n",
       "</table>\n",
       "</div>"
      ],
      "text/plain": [
       "                                                                   tracks\n",
       "35ecMLCJ1x2giJuvHLrI1t  {'otherSubgenres': {'L': [{'S': 'electronic---...\n",
       "3p0EUhkUeCNrBIZwkjmeYe  {'otherSubgenres': {'L': []}, 'artist': {'S': ...\n",
       "0rb6HvdvWJRkyhxsfFf1ep  {'otherSubgenres': {'L': [{'S': 'rock'}, {'S':...\n",
       "4ssD5IkaicvM3L2Ff8FPWQ  {'otherSubgenres': {'L': []}, 'artist': {'S': ...\n",
       "586ncAs8cYRTBlrxMDfmSP  {'otherSubgenres': {'L': [{'S': 'electronic---..."
      ]
     },
     "execution_count": 5,
     "metadata": {},
     "output_type": "execute_result"
    }
   ],
   "source": [
    "label_path = \"../data/unstructured/ludwig-music-dataset-moods-and-subgenres/labels.json\"\n",
    "labels = pd.read_json(label_path)\n",
    "labels.head()"
   ]
  },
  {
   "cell_type": "markdown",
   "metadata": {},
   "source": [
    "Extract metadata"
   ]
  },
  {
   "cell_type": "code",
   "execution_count": 6,
   "metadata": {},
   "outputs": [],
   "source": [
    "def get_metadata(x: dict) -> pd.Series:\n",
    "    \"\"\"Extracts metadata from a dict with info about the song.\"\"\"\n",
    "    cols = ['artist', 'genre', 'name', 'subgenres']\n",
    "    list_of_cols = []\n",
    "    for col in cols:\n",
    "        try:\n",
    "            mdata = list(x[col].values())[0]\n",
    "        except:\n",
    "            mdata = \"Unknown\"\n",
    "        list_of_cols.append(mdata)\n",
    "    return pd.Series(list_of_cols, index=cols)"
   ]
  },
  {
   "cell_type": "code",
   "execution_count": 10,
   "metadata": {},
   "outputs": [
    {
     "data": {
      "text/html": [
       "<div>\n",
       "<style scoped>\n",
       "    .dataframe tbody tr th:only-of-type {\n",
       "        vertical-align: middle;\n",
       "    }\n",
       "\n",
       "    .dataframe tbody tr th {\n",
       "        vertical-align: top;\n",
       "    }\n",
       "\n",
       "    .dataframe thead th {\n",
       "        text-align: right;\n",
       "    }\n",
       "</style>\n",
       "<table border=\"1\" class=\"dataframe\">\n",
       "  <thead>\n",
       "    <tr style=\"text-align: right;\">\n",
       "      <th></th>\n",
       "      <th>index</th>\n",
       "      <th>artist</th>\n",
       "      <th>genre</th>\n",
       "      <th>name</th>\n",
       "      <th>subgenres</th>\n",
       "    </tr>\n",
       "  </thead>\n",
       "  <tbody>\n",
       "    <tr>\n",
       "      <th>0</th>\n",
       "      <td>35ecMLCJ1x2giJuvHLrI1t</td>\n",
       "      <td>Riovolt</td>\n",
       "      <td>electronic</td>\n",
       "      <td>It Ain't Over 'till It's Over</td>\n",
       "      <td>[{'S': 'electronic---ambient'}, {'S': 'electro...</td>\n",
       "    </tr>\n",
       "    <tr>\n",
       "      <th>1</th>\n",
       "      <td>3p0EUhkUeCNrBIZwkjmeYe</td>\n",
       "      <td>R.L. Burnside</td>\n",
       "      <td>blues</td>\n",
       "      <td>Fireman Ring the Bell</td>\n",
       "      <td>[{'S': 'blues---country blues'}]</td>\n",
       "    </tr>\n",
       "    <tr>\n",
       "      <th>2</th>\n",
       "      <td>0rb6HvdvWJRkyhxsfFf1ep</td>\n",
       "      <td>Chapterhouse</td>\n",
       "      <td>rock</td>\n",
       "      <td>Falling Down</td>\n",
       "      <td>[{'S': 'rock---shoegaze'}]</td>\n",
       "    </tr>\n",
       "    <tr>\n",
       "      <th>3</th>\n",
       "      <td>4ssD5IkaicvM3L2Ff8FPWQ</td>\n",
       "      <td>Lowell Fulsom</td>\n",
       "      <td>funk / soul</td>\n",
       "      <td>Tramp</td>\n",
       "      <td>[{'S': 'funk / soul---rhythm &amp; blues'}]</td>\n",
       "    </tr>\n",
       "    <tr>\n",
       "      <th>4</th>\n",
       "      <td>586ncAs8cYRTBlrxMDfmSP</td>\n",
       "      <td>Paul Ellis</td>\n",
       "      <td>electronic</td>\n",
       "      <td>Dissolve</td>\n",
       "      <td>[{'S': 'electronic---ambient'}]</td>\n",
       "    </tr>\n",
       "  </tbody>\n",
       "</table>\n",
       "</div>"
      ],
      "text/plain": [
       "                    index         artist        genre  \\\n",
       "0  35ecMLCJ1x2giJuvHLrI1t        Riovolt   electronic   \n",
       "1  3p0EUhkUeCNrBIZwkjmeYe  R.L. Burnside        blues   \n",
       "2  0rb6HvdvWJRkyhxsfFf1ep   Chapterhouse         rock   \n",
       "3  4ssD5IkaicvM3L2Ff8FPWQ  Lowell Fulsom  funk / soul   \n",
       "4  586ncAs8cYRTBlrxMDfmSP     Paul Ellis   electronic   \n",
       "\n",
       "                            name  \\\n",
       "0  It Ain't Over 'till It's Over   \n",
       "1          Fireman Ring the Bell   \n",
       "2                   Falling Down   \n",
       "3                          Tramp   \n",
       "4                       Dissolve   \n",
       "\n",
       "                                           subgenres  \n",
       "0  [{'S': 'electronic---ambient'}, {'S': 'electro...  \n",
       "1                   [{'S': 'blues---country blues'}]  \n",
       "2                         [{'S': 'rock---shoegaze'}]  \n",
       "3            [{'S': 'funk / soul---rhythm & blues'}]  \n",
       "4                    [{'S': 'electronic---ambient'}]  "
      ]
     },
     "execution_count": 10,
     "metadata": {},
     "output_type": "execute_result"
    }
   ],
   "source": [
    "labels = labels['tracks'].apply(get_metadata).reset_index()\n",
    "labels.head()"
   ]
  },
  {
   "cell_type": "code",
   "execution_count": 11,
   "metadata": {},
   "outputs": [
    {
     "data": {
      "text/plain": [
       "0    [electronic---ambient, electronic---downtempo,...\n",
       "1                              [blues---country blues]\n",
       "2                                    [rock---shoegaze]\n",
       "3                       [funk / soul---rhythm & blues]\n",
       "4                               [electronic---ambient]\n",
       "Name: subgenres, dtype: object"
      ]
     },
     "execution_count": 11,
     "metadata": {},
     "output_type": "execute_result"
    }
   ],
   "source": [
    "def get_vals(genres: list) -> list:\n",
    "    \"\"\"Extracts subgenres from the dict of song's metadata.\"\"\"\n",
    "    genre_list = []\n",
    "    for dicts in genres:\n",
    "        if type(dicts) != str:\n",
    "            for _, val in dicts.items():\n",
    "                genre_list.append(val)\n",
    "    return genre_list\n",
    "\n",
    "labels['subgenres'] = labels.subgenres.apply(get_vals)\n",
    "labels['subgenres'].head()"
   ]
  },
  {
   "cell_type": "markdown",
   "metadata": {},
   "source": [
    "Select URLs/paths of songs"
   ]
  },
  {
   "cell_type": "code",
   "execution_count": 12,
   "metadata": {},
   "outputs": [
    {
     "data": {
      "text/html": [
       "<div>\n",
       "<style scoped>\n",
       "    .dataframe tbody tr th:only-of-type {\n",
       "        vertical-align: middle;\n",
       "    }\n",
       "\n",
       "    .dataframe tbody tr th {\n",
       "        vertical-align: top;\n",
       "    }\n",
       "\n",
       "    .dataframe thead th {\n",
       "        text-align: right;\n",
       "    }\n",
       "</style>\n",
       "<table border=\"1\" class=\"dataframe\">\n",
       "  <thead>\n",
       "    <tr style=\"text-align: right;\">\n",
       "      <th></th>\n",
       "      <th>ids</th>\n",
       "      <th>urls</th>\n",
       "    </tr>\n",
       "  </thead>\n",
       "  <tbody>\n",
       "    <tr>\n",
       "      <th>0</th>\n",
       "      <td>6ZgIoAuzxOcb7mfpFoGV58</td>\n",
       "      <td>../data/unstructured/ludwig-music-dataset-mood...</td>\n",
       "    </tr>\n",
       "    <tr>\n",
       "      <th>1</th>\n",
       "      <td>03tbpnBQ9kiAL8GX0ouZUG</td>\n",
       "      <td>../data/unstructured/ludwig-music-dataset-mood...</td>\n",
       "    </tr>\n",
       "    <tr>\n",
       "      <th>2</th>\n",
       "      <td>17W4YBY4SDiotsptTLghvO</td>\n",
       "      <td>../data/unstructured/ludwig-music-dataset-mood...</td>\n",
       "    </tr>\n",
       "    <tr>\n",
       "      <th>3</th>\n",
       "      <td>0RqeKSVKmyjmuG6Ky3Nu11</td>\n",
       "      <td>../data/unstructured/ludwig-music-dataset-mood...</td>\n",
       "    </tr>\n",
       "    <tr>\n",
       "      <th>4</th>\n",
       "      <td>16RKMsCuOBWMu9YnbPyegG</td>\n",
       "      <td>../data/unstructured/ludwig-music-dataset-mood...</td>\n",
       "    </tr>\n",
       "  </tbody>\n",
       "</table>\n",
       "</div>"
      ],
      "text/plain": [
       "                      ids                                               urls\n",
       "0  6ZgIoAuzxOcb7mfpFoGV58  ../data/unstructured/ludwig-music-dataset-mood...\n",
       "1  03tbpnBQ9kiAL8GX0ouZUG  ../data/unstructured/ludwig-music-dataset-mood...\n",
       "2  17W4YBY4SDiotsptTLghvO  ../data/unstructured/ludwig-music-dataset-mood...\n",
       "3  0RqeKSVKmyjmuG6Ky3Nu11  ../data/unstructured/ludwig-music-dataset-mood...\n",
       "4  16RKMsCuOBWMu9YnbPyegG  ../data/unstructured/ludwig-music-dataset-mood..."
      ]
     },
     "execution_count": 12,
     "metadata": {},
     "output_type": "execute_result"
    }
   ],
   "source": [
    "files = []\n",
    "for genre in genres:\n",
    "  file_path = os.path.join(\"../data/unstructured/ludwig-music-dataset-moods-and-subgenres\", \"mp3\",\"mp3\", genre, \"*.mp3\")\n",
    "  genre_files = glob(file_path)\n",
    "  files.extend(genre_files)\n",
    "ids = [i.split('/')[-1].replace(\".mp3\", '') for i in files]\n",
    "music_paths = pd.DataFrame(zip(ids, files), columns=[\"ids\", 'urls'])\n",
    "music_paths.head()"
   ]
  },
  {
   "cell_type": "markdown",
   "metadata": {},
   "source": [
    "Merge metadata: Genre, Subgenres, Song Name, URLs"
   ]
  },
  {
   "cell_type": "code",
   "execution_count": 13,
   "metadata": {},
   "outputs": [
    {
     "data": {
      "text/html": [
       "<div>\n",
       "<style scoped>\n",
       "    .dataframe tbody tr th:only-of-type {\n",
       "        vertical-align: middle;\n",
       "    }\n",
       "\n",
       "    .dataframe tbody tr th {\n",
       "        vertical-align: top;\n",
       "    }\n",
       "\n",
       "    .dataframe thead th {\n",
       "        text-align: right;\n",
       "    }\n",
       "</style>\n",
       "<table border=\"1\" class=\"dataframe\">\n",
       "  <thead>\n",
       "    <tr style=\"text-align: right;\">\n",
       "      <th></th>\n",
       "      <th>index</th>\n",
       "      <th>ids</th>\n",
       "      <th>artist</th>\n",
       "      <th>genre</th>\n",
       "      <th>name</th>\n",
       "      <th>subgenres</th>\n",
       "      <th>urls</th>\n",
       "    </tr>\n",
       "  </thead>\n",
       "  <tbody>\n",
       "    <tr>\n",
       "      <th>0</th>\n",
       "      <td>0</td>\n",
       "      <td>3zsUrcSjHX6d8DeIYyj1bE</td>\n",
       "      <td>The Jesus and Mary Chain</td>\n",
       "      <td>rock</td>\n",
       "      <td>Far Gone and Out</td>\n",
       "      <td>[rock---shoegaze]</td>\n",
       "      <td>../data/unstructured/ludwig-music-dataset-mood...</td>\n",
       "    </tr>\n",
       "    <tr>\n",
       "      <th>1</th>\n",
       "      <td>1</td>\n",
       "      <td>4NzcnIx2X1zq2DGVPdP8IY</td>\n",
       "      <td>Virus</td>\n",
       "      <td>rock</td>\n",
       "      <td>Shutout</td>\n",
       "      <td>[rock---art rock]</td>\n",
       "      <td>../data/unstructured/ludwig-music-dataset-mood...</td>\n",
       "    </tr>\n",
       "    <tr>\n",
       "      <th>2</th>\n",
       "      <td>2</td>\n",
       "      <td>5jZQJVYHgH01c5C3LMkxZ1</td>\n",
       "      <td>Melvins</td>\n",
       "      <td>rock</td>\n",
       "      <td>Missing</td>\n",
       "      <td>[rock---alternative rock, rock---punk]</td>\n",
       "      <td>../data/unstructured/ludwig-music-dataset-mood...</td>\n",
       "    </tr>\n",
       "    <tr>\n",
       "      <th>3</th>\n",
       "      <td>3</td>\n",
       "      <td>6kvMpEyqrGBNhZ4Ztb8TPo</td>\n",
       "      <td>DIIV</td>\n",
       "      <td>rock</td>\n",
       "      <td>Take Your Time</td>\n",
       "      <td>[rock---shoegaze]</td>\n",
       "      <td>../data/unstructured/ludwig-music-dataset-mood...</td>\n",
       "    </tr>\n",
       "    <tr>\n",
       "      <th>4</th>\n",
       "      <td>4</td>\n",
       "      <td>1a47wd7JsslfmklBtIU6QS</td>\n",
       "      <td>Hope of the States</td>\n",
       "      <td>rock</td>\n",
       "      <td>66 Sleepers to Summer</td>\n",
       "      <td>[rock---post rock]</td>\n",
       "      <td>../data/unstructured/ludwig-music-dataset-mood...</td>\n",
       "    </tr>\n",
       "  </tbody>\n",
       "</table>\n",
       "</div>"
      ],
      "text/plain": [
       "   index                     ids                    artist genre  \\\n",
       "0      0  3zsUrcSjHX6d8DeIYyj1bE  The Jesus and Mary Chain  rock   \n",
       "1      1  4NzcnIx2X1zq2DGVPdP8IY                     Virus  rock   \n",
       "2      2  5jZQJVYHgH01c5C3LMkxZ1                   Melvins  rock   \n",
       "3      3  6kvMpEyqrGBNhZ4Ztb8TPo                      DIIV  rock   \n",
       "4      4  1a47wd7JsslfmklBtIU6QS        Hope of the States  rock   \n",
       "\n",
       "                    name                               subgenres  \\\n",
       "0       Far Gone and Out                       [rock---shoegaze]   \n",
       "1                Shutout                       [rock---art rock]   \n",
       "2                Missing  [rock---alternative rock, rock---punk]   \n",
       "3         Take Your Time                       [rock---shoegaze]   \n",
       "4  66 Sleepers to Summer                      [rock---post rock]   \n",
       "\n",
       "                                                urls  \n",
       "0  ../data/unstructured/ludwig-music-dataset-mood...  \n",
       "1  ../data/unstructured/ludwig-music-dataset-mood...  \n",
       "2  ../data/unstructured/ludwig-music-dataset-mood...  \n",
       "3  ../data/unstructured/ludwig-music-dataset-mood...  \n",
       "4  ../data/unstructured/ludwig-music-dataset-mood...  "
      ]
     },
     "execution_count": 13,
     "metadata": {},
     "output_type": "execute_result"
    }
   ],
   "source": [
    "metadata = ds.select_columns(['index', 'ids']) \\\n",
    "                     .to_pandas() \\\n",
    "                     .merge(right=labels, how=\"left\", left_on='ids', right_on='index') \\\n",
    "                     .merge(right=music_paths, how=\"left\", left_on='ids', right_on='ids') \\\n",
    "                     .drop(\"index_y\", axis=1) \\\n",
    "                     .rename({\"index_x\": \"index\"}, axis=1)\n",
    "\n",
    "metadata.head()"
   ]
  },
  {
   "cell_type": "code",
   "execution_count": 14,
   "metadata": {},
   "outputs": [
    {
     "data": {
      "text/plain": [
       "[{'artist': 'The Jesus and Mary Chain',\n",
       "  'genre': 'rock',\n",
       "  'name': 'Far Gone and Out',\n",
       "  'subgenres': ['rock---shoegaze'],\n",
       "  'urls': '../data/unstructured/ludwig-music-dataset-moods-and-subgenres/mp3/mp3/rock/3zsUrcSjHX6d8DeIYyj1bE.mp3'},\n",
       " {'artist': 'Virus',\n",
       "  'genre': 'rock',\n",
       "  'name': 'Shutout',\n",
       "  'subgenres': ['rock---art rock'],\n",
       "  'urls': '../data/unstructured/ludwig-music-dataset-moods-and-subgenres/mp3/mp3/rock/4NzcnIx2X1zq2DGVPdP8IY.mp3'}]"
      ]
     },
     "execution_count": 14,
     "metadata": {},
     "output_type": "execute_result"
    }
   ],
   "source": [
    "payload = metadata.drop(['index', 'ids'], axis=1).to_dict(orient=\"records\")\n",
    "payload[:2]"
   ]
  },
  {
   "cell_type": "markdown",
   "metadata": {},
   "source": [
    "### Embeddings"
   ]
  },
  {
   "cell_type": "code",
   "execution_count": 28,
   "metadata": {},
   "outputs": [
    {
     "name": "stdout",
     "output_type": "stream",
     "text": [
      "Checkpoint path: /home/josealcocer27/panns_data/Cnn14_mAP=0.431.pth\n",
      "Using CPU.\n"
     ]
    }
   ],
   "source": [
    "device = \"cuda\" if torch.cuda.is_available() else \"cpu\"\n",
    "at = AudioTagging(checkpoint_path=None, device=device)"
   ]
  },
  {
   "cell_type": "code",
   "execution_count": 6,
   "metadata": {},
   "outputs": [],
   "source": [
    "def get_embeddings(batch: dict):\n",
    "    \"\"\"Generates embeddings from Dataset's batch with PANNs.\"\"\"\n",
    "    arrays = [torch.tensor(val['array'], dtype=torch.float64) for val in batch['audio']]\n",
    "    inputs = torch.nn.utils.rnn.pad_sequence(arrays, batch_first=True, padding_value=0).type(torch.cuda.FloatTensor)\n",
    "    with torch.no_grad():\n",
    "        _, embedding = at.inference(inputs)\n",
    "    batch['panns_embeddings'] = embedding\n",
    "    return batch"
   ]
  },
  {
   "cell_type": "code",
   "execution_count": 20,
   "metadata": {},
   "outputs": [
    {
     "name": "stderr",
     "output_type": "stream",
     "text": [
      "Map: 100%|██████████| 520/520 [24:08<00:00,  2.79s/ examples]\n"
     ]
    }
   ],
   "source": [
    "with torch.inference_mode():\n",
    "    ds = ds.map(get_embeddings, batched=True, batch_size=8)"
   ]
  },
  {
   "cell_type": "markdown",
   "metadata": {},
   "source": [
    "### Qdrant Vector Database"
   ]
  },
  {
   "cell_type": "markdown",
   "metadata": {},
   "source": [
    "Create client"
   ]
  },
  {
   "cell_type": "code",
   "execution_count": 7,
   "metadata": {},
   "outputs": [],
   "source": [
    "client = QdrantClient(host=\"localhost\", port=6333)"
   ]
  },
  {
   "cell_type": "markdown",
   "metadata": {},
   "source": [
    "Create collection"
   ]
  },
  {
   "cell_type": "code",
   "execution_count": 22,
   "metadata": {},
   "outputs": [
    {
     "data": {
      "text/plain": [
       "True"
      ]
     },
     "execution_count": 22,
     "metadata": {},
     "output_type": "execute_result"
    }
   ],
   "source": [
    "my_collection = \"music_collection3\"\n",
    "client.recreate_collection(\n",
    "    collection_name=my_collection,\n",
    "    vectors_config=models.VectorParams(size=2048, distance=models.Distance.COSINE)\n",
    ")"
   ]
  },
  {
   "cell_type": "markdown",
   "metadata": {},
   "source": [
    "Upsert records"
   ]
  },
  {
   "cell_type": "code",
   "execution_count": 23,
   "metadata": {},
   "outputs": [
    {
     "data": {
      "text/plain": [
       "UpdateResult(operation_id=0, status=<UpdateStatus.COMPLETED: 'completed'>)"
      ]
     },
     "execution_count": 23,
     "metadata": {},
     "output_type": "execute_result"
    }
   ],
   "source": [
    "ds_pandas = ds.to_pandas()\n",
    "\n",
    "client.upsert(\n",
    "    collection_name=my_collection,\n",
    "    points=models.Batch(\n",
    "        ids=ds_pandas['index'],\n",
    "        vectors=ds_pandas['panns_embeddings'],\n",
    "        payloads=payload\n",
    "    )\n",
    ")"
   ]
  },
  {
   "cell_type": "code",
   "execution_count": 9,
   "metadata": {},
   "outputs": [
    {
     "data": {
      "text/plain": [
       "[Record(id=100, payload={'artist': 'Russian Circles', 'genre': 'rock', 'name': 'Ethel', 'subgenres': ['rock---post rock'], 'urls': '../data/unstructured/ludwig-music-dataset-moods-and-subgenres/mp3/mp3/rock/6ThSoSKCXgvd7qtqRd2d1o.mp3'}, vector=[0.0, 0.0, 0.0, 0.0, 0.0, 0.005795607, 0.0, 0.0, 0.0, 0.0, 0.0, 0.0, 0.01083843, 0.0, 0.0, 0.06413969, 0.0, 0.0, 0.0, 0.0, 0.0, 0.0, 0.0, 0.0, 0.0, 0.0, 0.004939821, 0.0011205913, 0.076729886, 0.0, 0.0, 0.0, 0.0, 0.0, 0.0, 0.0, 0.0, 0.0, 0.0, 0.0, 0.0, 0.0, 0.0, 0.0, 0.0, 0.0, 0.0, 0.0, 0.0, 0.0, 0.0, 0.0, 0.0, 0.0, 0.0, 0.0, 0.017911065, 0.0, 0.0, 0.0, 0.0, 0.0, 0.0, 0.0, 0.0, 0.0, 0.0, 0.060938634, 0.0, 0.0, 0.0, 0.0, 0.0, 0.0, 0.0, 0.0, 0.0, 0.0, 0.0, 0.0, 0.0, 0.0, 0.0, 0.0, 0.0, 0.0, 0.0, 0.03592922, 0.0, 0.0, 0.0, 0.0, 0.0, 0.0, 0.0, 0.073928244, 0.0, 0.0, 0.0, 0.0, 0.0, 0.0, 0.0, 0.0, 0.0, 0.0, 0.027402062, 0.0, 0.0, 0.0, 0.0, 0.0, 0.0, 0.0, 0.0, 0.0, 0.0, 0.0, 0.0, 0.0, 0.0, 0.0, 0.0, 0.0, 0.0, 0.0, 0.0, 0.0, 0.0, 0.0, 0.0, 0.0, 0.0, 0.0, 0.0, 0.0, 0.0, 0.0, 0.0, 0.0, 0.0, 0.0, 0.0, 0.0, 0.0, 0.0, 0.05084622, 0.0, 0.1270198, 0.0, 0.0, 0.0, 0.0, 0.0, 0.0, 0.0, 0.0, 0.0, 0.0, 0.0, 0.0, 0.0, 0.0, 0.0, 0.076255806, 0.0, 0.0, 0.0, 0.0, 0.0, 0.0, 0.051911063, 0.0, 0.0, 0.0, 0.04588555, 0.0, 0.0, 0.0, 0.0, 0.0, 0.0, 0.0, 0.083886325, 0.0, 0.0, 0.13290042, 0.0, 0.0, 0.0, 0.0, 0.0, 0.0, 0.0, 0.0, 0.0, 0.0, 0.042029135, 0.0, 0.0, 0.03501611, 0.06365056, 0.0, 0.0, 0.0, 0.0, 0.0, 0.0, 0.0, 0.0, 0.0, 0.021606924, 0.0, 0.0, 0.0, 0.036978155, 0.0, 0.0, 0.0, 0.0, 0.0, 0.0, 0.0, 0.03500274, 0.0, 0.0, 0.0, 0.0, 0.0, 0.0, 0.0, 0.00061078166, 0.014194951, 0.0, 0.0, 0.0, 0.0, 0.0, 0.0, 0.0, 0.02378792, 0.0, 0.0, 0.0, 0.0, 0.0, 0.0, 0.0, 0.0, 0.0, 0.0, 0.0, 0.0, 0.0, 0.0, 0.0, 0.0, 0.0, 0.0, 0.0, 0.0, 0.0, 0.0, 0.0, 0.0, 0.0, 0.0, 0.0, 0.0, 0.0, 0.0, 0.0, 0.0, 0.0121304495, 0.0, 0.0, 0.0, 0.0, 0.0, 0.0, 0.0, 0.0, 0.0, 0.0, 0.0, 0.0, 0.0, 0.014079474, 0.0, 0.0, 0.023153432, 0.0, 0.0, 0.0, 0.0, 0.0, 0.0, 0.052492056, 0.0, 0.0, 0.0, 0.0, 0.0, 0.0, 0.0, 0.0, 0.0, 0.0, 0.0, 0.0, 0.0, 0.0, 0.0, 0.0, 0.0, 0.0, 0.0, 0.0, 0.0, 0.020182615, 0.0, 0.0048481105, 0.0, 0.0, 0.0, 0.0, 0.0, 0.0, 0.0, 0.0, 0.13749848, 0.005365528, 0.0, 0.0, 0.0, 0.0, 0.0, 0.0, 0.0, 0.0, 0.0, 0.0, 0.0, 0.0, 0.0, 0.0, 0.0, 0.0, 0.0, 0.0, 0.0, 0.0, 0.0, 0.0, 0.0, 0.054260425, 0.0, 0.0, 0.0, 0.0, 0.0, 0.0, 0.0, 0.0, 0.0, 0.0, 0.0, 0.0, 0.0, 0.0, 0.0, 0.0, 0.13982724, 0.0, 0.0, 0.0, 0.0, 0.0, 0.0, 0.0, 0.0, 0.06515442, 0.0, 0.029677175, 0.0, 0.0, 0.0, 0.0, 0.0, 0.0, 0.0, 0.049479526, 0.0, 0.0, 0.0, 0.0, 0.0, 0.0, 0.0, 0.0, 0.0, 0.0, 0.0, 0.0, 0.0, 0.0, 0.020312916, 0.0, 0.0, 0.0, 0.0, 0.0, 0.0, 0.0, 0.0, 0.0, 0.09177629, 0.0, 0.0, 0.099444695, 0.0, 0.0, 0.0, 0.0, 0.0, 0.0, 0.0, 0.0, 0.0, 0.0, 0.0, 0.0, 0.0, 0.0, 0.037454184, 0.0, 0.0, 0.0, 0.0, 0.0, 0.0, 0.0, 0.0, 0.0, 0.0, 0.0, 0.05906003, 0.0, 0.13836208, 0.0, 0.0, 0.04179578, 0.0, 0.0, 0.0, 0.0, 0.0, 0.09496784, 0.0, 0.0, 0.05828306, 0.0, 0.0, 0.0, 0.0, 0.0, 0.0, 0.0, 0.0, 0.0, 0.0, 0.0, 0.0, 0.0, 0.03286292, 0.0, 0.22960211, 0.0, 0.0, 0.0, 0.0, 0.0, 0.0, 0.0, 0.0, 0.0, 0.0, 0.0, 0.0, 0.09909342, 0.0, 0.0, 0.0, 0.0, 0.0, 0.0, 0.0, 0.0, 0.0, 0.0, 0.019709801, 0.0, 0.0, 0.0, 0.0, 0.0, 0.0, 0.0, 0.0, 0.0, 0.0053951098, 0.0, 0.0, 0.0, 0.0, 0.0, 0.0, 0.0, 0.0, 0.0, 0.0, 0.0, 0.0, 0.0, 0.0, 0.0, 0.016477808, 0.0, 0.0, 0.0, 0.0, 0.0, 0.015768357, 0.0, 0.0, 0.06375956, 0.0, 0.0, 0.0, 0.0, 0.0, 0.0, 0.0, 0.0, 0.0, 0.0, 0.0, 0.0, 0.0, 0.0, 0.01237167, 0.0, 0.0, 0.0, 0.0, 0.0, 0.0, 0.0, 0.0, 0.0, 0.0, 0.0, 0.04741479, 0.0, 0.0, 0.0, 0.0, 0.0, 0.0, 0.0, 0.0, 0.0, 0.0, 0.055975206, 0.0, 0.0, 0.0, 0.0, 0.078769475, 0.0, 0.0, 0.0, 0.0, 0.0, 0.0, 0.0, 0.0, 0.0, 0.0, 0.0, 0.0, 0.0, 0.0, 0.11864741, 0.0, 0.0, 0.0, 0.051039934, 0.0, 0.0, 0.0, 0.0, 0.0, 0.0, 0.0, 0.0, 0.0, 0.0, 0.0, 0.0, 0.0, 0.0, 0.0, 0.0, 0.04366351, 0.0, 0.0, 0.0, 0.0, 0.0028620367, 0.0, 0.0, 0.0, 0.0, 0.0, 0.0, 0.0, 0.0, 0.0, 0.0, 0.0, 0.0, 0.0, 0.0, 0.0, 0.0, 0.0, 0.0, 0.0, 0.0, 0.0, 0.0, 0.0, 0.0, 0.0, 0.0, 0.0, 0.0, 0.0, 0.0, 0.0, 0.025025962, 0.0, 0.0, 0.0, 0.07341418, 0.0, 0.0, 0.0, 0.0, 0.0, 0.0, 0.0, 0.0, 0.13101639, 0.0, 0.0, 0.0, 0.0, 0.0, 0.0, 0.0, 0.0, 0.0, 0.0, 0.0, 0.0, 0.0, 0.0, 0.037077855, 0.0018160772, 0.0, 0.0, 0.0, 0.0, 0.0, 0.0, 0.0, 0.0, 0.0, 0.0, 0.0, 0.0, 0.0, 0.114757136, 0.0, 0.0, 0.0, 0.0, 0.0, 0.0, 0.0, 0.0, 0.0, 0.0, 0.0, 0.0, 0.0, 0.0, 0.0, 0.0, 0.0, 0.0, 0.0, 0.0, 0.0, 0.0, 0.0, 0.0, 0.1407641, 0.0, 0.0, 0.0, 0.0, 0.0, 0.0, 0.0, 0.0, 0.0, 0.0, 0.0, 0.0, 0.0, 0.0, 0.0, 0.0, 0.0, 0.0, 0.0, 0.0, 0.0, 0.0, 0.0, 0.0, 0.0, 0.006115736, 0.0, 0.0, 0.0, 0.0, 0.0, 0.0, 0.0, 0.0854669, 0.0, 0.0, 0.0, 0.022781914, 0.0, 0.0, 0.0, 0.0, 0.0, 0.0, 0.050279263, 0.0, 0.0, 0.0, 0.0, 0.0, 0.0, 0.0, 0.0, 0.0, 0.0, 0.0, 0.0, 0.0, 0.0, 0.0, 0.0, 0.0, 0.0, 0.0, 0.0, 0.0, 0.0, 0.0, 0.0, 0.0, 0.0, 0.0, 0.0, 0.0, 0.0, 0.0, 0.0, 0.0, 0.0, 0.0, 0.0, 0.0, 0.0, 0.0, 0.0, 0.0, 0.0, 0.0, 0.051468544, 0.0, 0.0, 0.0, 0.008195448, 0.0, 0.0, 0.017346358, 0.0, 0.0, 0.0, 0.0, 0.08650414, 0.0, 0.0, 0.0, 0.0, 0.0, 0.041369617, 0.0, 0.0, 0.0, 0.0, 0.0, 0.0, 0.0, 0.072080754, 0.0, 0.0, 0.06804079, 0.0, 0.0, 0.0, 0.0, 0.0, 0.0, 0.0, 0.0, 0.0, 0.0, 0.0, 0.0, 0.0, 0.0, 0.0, 0.0, 0.0, 0.0, 0.0, 0.016356677, 0.0, 0.0, 0.047920674, 0.0, 0.0, 0.0, 0.0, 0.0, 0.0, 0.0, 0.0, 0.0, 0.0, 0.0, 0.0, 0.0, 0.0, 0.0, 0.0, 0.0, 0.0, 0.0, 0.0, 0.057766423, 0.0, 0.0, 0.010585797, 0.013800291, 0.0, 0.0, 0.0, 0.0, 0.0, 0.033024624, 0.0, 0.0, 0.0, 0.0, 0.0, 0.0, 0.0, 0.0, 0.0, 0.0, 0.0, 0.0, 0.044332854, 0.0, 0.0, 0.0077949855, 0.0, 0.0, 0.0, 0.0, 0.0, 0.0, 0.0, 0.0, 0.0, 0.0, 0.0, 0.0, 0.0, 0.0, 0.0, 0.0, 0.0, 0.0, 0.0, 0.04981723, 0.0, 0.063569, 0.10039374, 0.0, 0.0, 0.0, 0.093666345, 0.0, 0.0, 0.0, 0.0, 0.036802042, 0.0, 0.0, 0.0, 0.0, 0.0, 0.10887096, 0.0, 0.0, 0.0, 0.0, 0.0, 0.0, 0.0, 0.0, 0.0, 0.0, 0.0, 0.0, 0.0, 0.0, 0.0, 0.0, 0.0, 0.0, 0.0, 0.0, 0.0, 0.012978383, 0.0, 0.0, 0.0, 0.0, 0.0, 0.0, 0.0, 0.0, 0.0, 0.0, 0.0, 0.0, 0.0, 0.05880256, 0.0, 0.0, 0.0, 0.0, 0.0, 0.0, 0.0, 0.0, 0.0, 0.0, 0.0, 0.0, 0.0065329364, 0.06431924, 0.0, 0.0, 0.0, 0.0, 0.0, 0.0, 0.0, 0.0, 0.0, 0.0, 0.0097528435, 0.0, 0.0, 0.0, 0.0, 0.11505977, 0.0, 0.0, 0.012277781, 0.0, 0.0, 0.0, 0.0, 0.0, 0.0, 0.0, 0.0, 0.042329073, 0.026733104, 0.0, 0.0, 0.0, 0.0, 0.0, 0.0, 0.0033892882, 0.0, 0.0, 0.0, 0.0, 0.0, 0.0, 0.0, 0.0, 0.0, 0.0, 0.0, 0.0, 0.0, 0.0, 0.0, 0.0, 0.0, 0.0, 0.08507218, 0.0, 0.0, 0.0, 0.0, 0.0, 0.004915999, 0.0, 0.015084887, 0.0, 0.0, 0.0, 0.0, 0.0, 0.0, 0.0, 0.0, 0.0, 0.0, 0.0, 0.0, 0.0, 0.0, 0.0, 0.0, 0.0, 0.0, 0.0, 0.0, 0.0, 0.0, 0.0, 0.0, 0.0, 0.0, 0.0, 0.0, 0.0, 0.0, 0.0, 0.0, 0.0, 0.0067140283, 0.0, 0.0, 0.0, 0.0, 0.0, 0.0, 0.0, 0.0, 0.0, 0.10419168, 0.0, 0.0, 0.0, 0.0, 0.0, 0.0, 0.00047260342, 0.07356958, 0.0, 0.0, 0.0, 0.0, 0.0, 0.0, 0.0, 0.0, 0.0, 0.0, 0.0, 0.0, 0.0, 0.0, 0.0, 0.104781695, 0.0, 0.0, 0.0, 0.0, 0.0, 0.0, 0.0, 0.0, 0.0, 0.0, 0.0, 0.0, 0.0, 0.0, 0.030559903, 0.0, 0.0, 0.0, 0.051193856, 0.0, 0.0, 0.0, 0.024165899, 0.0, 0.0, 0.0, 0.0, 0.0, 0.0, 0.0, 0.0, 0.0, 0.0, 0.042669192, 0.020573283, 0.0, 0.0, 0.0, 0.0, 0.0, 0.0, 0.0, 0.0831191, 0.0, 0.0, 0.06370885, 0.0, 0.0, 0.0, 0.0, 0.0, 0.0, 0.0, 0.0, 0.0, 0.041132685, 0.0, 0.0, 0.0, 0.0, 0.0, 0.0, 0.0, 0.0, 0.0, 0.12743916, 0.0, 0.0, 0.0, 0.0, 0.0, 0.0, 0.0, 0.0, 0.0, 0.0, 0.0, 0.0, 0.0, 0.0, 0.0, 0.0, 0.0, 0.0, 0.0, 0.037626535, 0.0, 0.0, 0.0, 0.0, 0.0, 0.0, 0.0, 0.0, 0.0, 0.0, 0.0, 0.0, 0.0, 0.0, 0.0, 0.0, 0.031944748, 0.0, 0.0, 0.0, 0.0, 0.0, 0.2162898, 0.0, 0.0, 0.0, 0.0, 0.078385115, 0.0, 0.0, 0.0, 0.0, 0.0, 0.0, 0.0, 0.0, 0.0, 0.0, 0.0, 0.0, 0.0, 0.0, 0.0, 0.0, 0.0, 0.0, 0.0, 0.0, 0.0, 0.017092962, 0.0, 0.0, 0.0, 0.0, 0.0, 0.004111599, 0.0, 0.0, 0.0, 0.0, 0.012224722, 0.0, 0.124379344, 0.0, 0.0, 0.0, 0.0, 0.0, 0.0, 0.0, 0.0, 0.05230836, 0.0, 0.00046177502, 0.054804277, 0.0, 0.0, 0.057072043, 0.039733957, 0.0, 0.0, 0.0, 0.0, 0.0, 0.0, 0.0, 0.0, 0.0, 0.0062940274, 0.0, 0.0, 0.0, 0.0, 0.0, 0.0, 0.0, 0.0, 0.0, 0.0, 0.0, 0.0, 0.0, 0.0, 0.0, 0.0, 0.0, 0.0, 0.081102245, 0.0, 0.0, 0.021767216, 0.0, 0.0, 0.0, 0.0, 0.0, 0.0, 0.0, 0.0, 0.0, 0.0, 0.0, 0.0, 0.0, 0.0, 0.076475576, 0.068070814, 0.0, 0.0, 0.0, 0.0, 0.0, 0.0, 0.0, 0.0, 0.0, 0.0, 0.07864006, 0.0, 0.0, 0.0, 0.0, 0.0, 0.0, 0.022268925, 0.0, 0.0, 0.0, 0.049861003, 0.0, 0.07066224, 0.0, 0.0, 0.0, 0.0, 0.0, 0.0, 0.0, 0.0, 0.0, 0.0, 0.0, 0.0, 0.0, 0.0, 0.0, 0.0, 0.0, 0.0, 0.053579915, 0.0, 0.0, 0.0, 0.0, 0.0, 0.0, 0.0013587782, 0.0, 0.0, 0.0, 0.0, 0.0, 0.0, 0.0, 0.0, 0.0, 0.0, 0.0, 0.096915975, 0.0, 0.0, 0.0, 0.0, 0.0, 0.0, 0.0, 0.10206638, 0.0, 0.0, 0.0, 0.11458193, 0.0, 0.0, 0.0, 0.0, 0.10190029, 0.10907236, 0.0, 0.0, 0.0, 0.0, 0.0, 0.0, 0.0, 0.0, 0.0, 0.0, 0.0, 0.0, 0.0, 0.0, 0.0, 0.0, 0.0, 0.0, 0.0, 0.0, 0.0, 0.0, 0.0, 0.0, 0.0, 0.02397667, 0.0, 0.0, 0.0, 0.0, 0.0, 0.08048808, 0.0, 0.0, 0.0, 0.0, 0.0, 0.05779174, 0.0, 0.0, 0.0, 0.0, 0.0, 0.0, 0.0, 0.0, 0.015812894, 0.0, 0.0, 0.0, 0.0, 0.056895662, 0.0, 0.0, 0.0, 0.0, 0.0, 0.0, 0.0, 0.0, 0.0, 0.0, 0.0, 0.0, 0.0, 0.0, 0.0, 0.0, 0.0, 0.0, 0.0, 0.0, 0.0, 0.0, 0.0, 0.0, 0.0, 0.0, 0.0, 0.0, 0.0, 0.0, 0.0, 0.0, 0.0, 0.0, 0.0, 0.0, 0.0, 0.0, 0.0, 0.0, 0.0, 0.0, 0.0, 0.0, 0.0, 0.0, 0.0, 0.0, 0.0, 0.0, 0.0, 0.0, 0.0, 0.0, 0.0, 0.0, 0.0, 0.0, 0.0, 0.0, 0.0, 0.0, 0.0, 0.0, 0.0, 0.010655719, 0.0, 0.0, 0.10683468, 0.0, 0.0054625487, 0.0, 0.0, 0.046409544, 0.0, 0.0, 0.0037210132, 0.0, 0.0, 0.0, 0.0, 0.0, 0.0, 0.0, 0.056785576, 0.0, 0.0, 0.0, 0.0, 0.0, 0.0, 0.0, 0.0, 0.0, 0.0, 0.0, 0.0, 0.0, 0.0, 0.0, 0.0, 0.0, 0.11020985, 0.0, 0.0, 0.0, 0.0, 0.0, 0.0, 0.0, 0.0, 0.0, 0.0, 0.0, 0.0, 0.026421925, 0.0, 0.0, 0.0, 0.0, 0.0, 0.0, 0.0, 0.0, 0.050319046, 0.0, 0.0, 0.0, 0.0, 0.0, 0.0, 0.0, 0.0, 0.0, 0.0, 0.0, 0.0, 0.0, 0.0, 0.0, 0.0, 0.0, 0.0, 0.0, 0.0, 0.0, 0.0, 0.0, 0.0, 0.0, 0.0, 0.0, 0.0, 0.0, 0.0, 0.0, 0.0, 0.0, 0.0, 0.0, 0.026051262, 0.0070855333, 0.0, 0.0, 0.0, 0.0, 0.0, 0.0, 0.0, 0.0, 0.0, 0.0, 0.0, 0.0, 0.0, 0.0, 0.0, 0.0, 0.0, 0.0, 0.0, 0.0638548, 0.0, 0.0, 0.0, 0.0, 0.0, 0.0, 0.0, 0.0, 0.0, 0.0, 0.0, 0.0, 0.0, 0.0, 0.050367538, 0.0, 0.0, 0.0, 0.0, 0.0, 0.0, 0.0, 0.0, 0.0, 0.0, 0.0, 0.0, 0.0, 0.0, 0.02272947, 0.0, 0.0, 0.0, 0.0, 0.0, 0.0, 0.0, 0.0, 0.0, 0.0, 0.0, 0.0, 0.0, 0.0, 0.0, 0.0, 0.0, 0.0, 0.0, 0.0, 0.0, 0.093028985, 0.0, 0.0, 0.0, 0.0, 0.0, 0.0, 0.0, 0.0, 0.0, 0.0, 0.0, 0.0, 0.0, 0.0, 0.0, 0.04206877, 0.0, 0.027996972, 0.0, 0.0, 0.0, 0.0, 0.0, 0.0, 0.0, 0.0, 0.0, 0.0, 0.0, 0.0, 0.0, 0.0, 0.11734065, 0.0, 0.0, 0.0, 0.0, 0.0, 0.0, 0.0, 0.0, 0.0, 0.0, 0.0, 0.095565386, 0.0, 0.0, 0.0, 0.081670865, 0.0, 0.0, 0.0, 0.0, 0.0, 0.03556867, 0.07250207, 0.0, 0.02635698, 0.0006793521, 0.0, 0.0, 0.0, 0.06543382, 0.057642225, 0.0, 0.0, 0.0, 0.10436937, 0.0, 0.0, 0.0, 0.0, 0.016068375, 0.0, 0.0, 0.0, 0.0, 0.0, 0.0, 0.0, 0.0, 0.0, 0.0, 0.0, 0.0, 0.0, 0.0, 0.0, 0.0, 0.0, 0.0, 0.030372499, 0.0, 0.0, 0.0, 0.0, 0.0, 0.0, 0.0, 0.0, 0.022134986, 0.0, 0.0, 0.0, 0.0, 0.0, 0.0, 0.0, 0.0, 0.0, 0.0, 0.0, 0.0, 0.0, 0.0, 0.0, 0.004162866, 0.0, 0.0, 0.0, 0.0, 0.0, 0.0, 0.0, 0.0, 0.0, 0.0, 0.0, 0.0, 0.0, 0.0, 0.0, 0.0, 0.0, 0.0, 0.13219006, 0.0, 0.0, 0.0, 0.0, 0.05555709, 0.0, 0.0, 0.0, 0.0, 0.100683436, 0.0, 0.0, 0.0, 0.0, 0.0, 0.0077523706, 0.0, 0.100061096, 0.0, 0.0, 0.0, 0.010062778, 0.0, 0.115295544, 0.0, 0.0, 0.0, 0.0, 0.0, 0.0, 0.0, 0.0, 0.0, 0.058845874, 0.0, 0.0, 0.0, 0.0, 0.0, 0.0, 0.0, 0.0, 0.09730603, 0.0, 0.04331971, 0.0, 0.0, 0.0, 0.0, 0.0, 0.0, 0.0, 0.0, 0.03426567, 0.0, 0.0, 0.0, 0.0, 0.0, 0.0, 0.0, 0.08465959, 0.0, 0.0, 0.0, 0.0, 0.0, 0.0, 0.0, 0.0, 0.0, 0.0, 0.0, 0.0, 0.0, 0.0, 0.0, 0.0, 0.0, 0.0, 0.010058211, 0.0, 0.0, 0.0, 0.09756094, 0.0, 0.0, 0.0, 0.0, 0.0, 0.0, 0.0, 0.0, 0.0, 0.0, 0.0, 0.0, 0.0, 0.0, 0.0, 0.0, 0.0, 0.0, 0.0, 0.0, 0.0, 0.0, 0.0, 0.0, 0.02805618, 0.0, 0.0, 0.04560213, 0.12264193, 0.0, 0.0, 0.0, 0.13324437, 0.0, 0.0, 0.0, 0.0, 0.0, 0.0, 0.0, 0.0, 0.0, 0.0, 0.0, 0.0, 0.0, 0.0, 0.0, 0.13750973, 0.0, 0.004967337, 0.0, 0.0, 0.0, 0.11148754, 0.0, 0.0, 0.0, 0.0, 0.0, 0.0, 0.078767166, 0.0, 0.0, 0.0, 0.0, 0.0, 0.09142352, 0.0, 0.0, 0.0, 0.0, 0.009073432, 0.0, 0.0, 0.0, 0.08187162, 0.0, 0.0, 0.0, 0.0, 0.0, 0.0, 0.0, 0.0, 0.0, 0.0, 0.0, 0.0, 0.0055976007, 0.0, 0.0, 0.0, 0.0, 0.0, 0.0, 0.0, 0.0, 0.0, 0.0, 0.0, 0.0, 0.0, 0.0, 0.0, 0.0, 0.0, 0.0026657768, 0.0, 0.0, 0.0, 0.0, 0.0, 0.0, 0.0, 0.0, 0.0, 0.057789702, 0.007606593, 0.0, 0.0], shard_key=None)]"
      ]
     },
     "execution_count": 9,
     "metadata": {},
     "output_type": "execute_result"
    }
   ],
   "source": [
    "result = client.retrieve(\n",
    "    collection_name=my_collection,\n",
    "    ids=[100],\n",
    "    with_vectors=True # we can turn this on and off depending on our needs\n",
    ")\n",
    "result"
   ]
  },
  {
   "cell_type": "code",
   "execution_count": 10,
   "metadata": {},
   "outputs": [
    {
     "ename": "NameError",
     "evalue": "name 'metadata' is not defined",
     "output_type": "error",
     "traceback": [
      "\u001b[0;31m---------------------------------------------------------------------------\u001b[0m",
      "\u001b[0;31mNameError\u001b[0m                                 Traceback (most recent call last)",
      "Cell \u001b[0;32mIn[10], line 1\u001b[0m\n\u001b[0;32m----> 1\u001b[0m \u001b[43mmetadata\u001b[49m\u001b[38;5;241m.\u001b[39mquery(\u001b[38;5;124m\"\u001b[39m\u001b[38;5;124martist == \u001b[39m\u001b[38;5;124m'\u001b[39m\u001b[38;5;124mEddie Santiago\u001b[39m\u001b[38;5;124m'\u001b[39m\u001b[38;5;124m\"\u001b[39m)\n",
      "\u001b[0;31mNameError\u001b[0m: name 'metadata' is not defined"
     ]
    }
   ],
   "source": [
    "metadata.query(\"artist == 'Eddie Santiago'\")"
   ]
  },
  {
   "cell_type": "code",
   "execution_count": 27,
   "metadata": {},
   "outputs": [
    {
     "data": {
      "text/plain": [
       "array(['Os Paralamas do Sucesso', 'Los Fabulosos Cadillacs', 'Anis',\n",
       "       'Anelis', 'Les Babacools', 'Skank', 'Harry Belafonte',\n",
       "       'Culcha Candela', 'Citizen Cope', 'King Changó', 'Gondwana',\n",
       "       'Big Sugar', 'Les Colocs', 'Los Cafres', 'The Cat Empire',\n",
       "       'O Rappa', 'Byron Lee & The Dragonaires', 'Ska Cubano',\n",
       "       'Taj Mahal', 'Abuela Coca', 'Joxe Ripiau', \"EGO-WRAPPIN'\",\n",
       "       'Blundetto', 'Pablopavo', 'Orchestra Baobab', 'Peps Blodsband',\n",
       "       'No te va gustar', 'Ayo', 'See Spot', 'Dry Kill Logic',\n",
       "       'Black Gandhi', 'Laurel Aitken', 'Raggabund', 'Onda Vaga',\n",
       "       'Darko Rundek', 'Intoxicados', 'Carlos Puebla', 'Baden Powell',\n",
       "       'Cal Tjader', 'Ibrahim Ferrer', 'Adriana Calcanhotto',\n",
       "       'Gipsy Kings', 'Jimmy Buffett', 'Sin Bandera', '¡Cubanismo!',\n",
       "       'Cesária Évora', 'Cartola', 'Joselito', 'Bebeto', 'Ojos de Brujo',\n",
       "       'Ry Cooder', 'Armik', 'Los Delinqüentes', 'Jorge Pardo',\n",
       "       'Carmen Linares', 'Buika', 'Niña Pastori', 'Tito Puente',\n",
       "       'Sergent Garcia', 'Rosemary Clooney & Pérez Prado',\n",
       "       'Canteca de Macao', 'Gilberto Santa Rosa', 'La-33',\n",
       "       'Caetano Veloso', 'João Bosco', 'Karim Baggili', 'Eliades Ochoa',\n",
       "       'Vanessa da Mata', 'Rubén Blades', 'Maria Rita', 'Kíla',\n",
       "       'Tony Vega', 'Joe Cuba Sextet', 'Semino Rossi', 'Nara Leão',\n",
       "       'Henry Jackman', 'Johannes Linstead', 'Rodrigo y Gabriela',\n",
       "       'Chicha Libre', 'Vinicius de Moraes', 'Chico Buarque De Hollanda',\n",
       "       'Vocal Sampling', 'Jerry Rivera', 'Beth Carvalho', 'Marc Anthony',\n",
       "       'Talegueros', 'Ismael Miranda', 'Ottmar Liebert', 'Joe Acosta',\n",
       "       'Gilberto Gil', 'La Bottine Souriante', 'Blue Man Group',\n",
       "       'Vicente Amigo', 'Celia Cruz', 'Son by Four', 'Djavan',\n",
       "       'Devendra Banhart -- Devendra Banhart', 'Clara Moreno',\n",
       "       'David Byrne', 'Africando', 'Elza Soares', 'Eddie Santiago',\n",
       "       'Los de Abajo', 'DLG'], dtype=object)"
      ]
     },
     "execution_count": 27,
     "metadata": {},
     "output_type": "execute_result"
    }
   ],
   "source": [
    "metadata[metadata[\"genre\"]==\"latin\"][\"artist\"].unique()"
   ]
  },
  {
   "cell_type": "markdown",
   "metadata": {},
   "source": [
    "Search similar songs"
   ]
  },
  {
   "cell_type": "code",
   "execution_count": 34,
   "metadata": {},
   "outputs": [
    {
     "data": {
      "text/plain": [
       "[ScoredPoint(id=510, version=0, score=0.9999999, payload={'artist': 'Eddie Santiago', 'genre': 'latin', 'name': 'Hasta aquí te fui fiel', 'subgenres': ['latin---salsa'], 'urls': '../data/unstructured/ludwig-music-dataset-moods-and-subgenres/mp3/mp3/latin/1K26lXMWRZh5dwQugTUmc5.mp3'}, vector=None, shard_key=None),\n",
       " ScoredPoint(id=432, version=0, score=0.8996564, payload={'artist': 'Ibrahim Ferrer', 'genre': 'latin', 'name': 'Mamí me gustó', 'subgenres': ['latin---cubano'], 'urls': '../data/unstructured/ludwig-music-dataset-moods-and-subgenres/mp3/mp3/latin/6SPljwgWMsRt6u2J8VQMmR.mp3'}, vector=None, shard_key=None),\n",
       " ScoredPoint(id=317, version=0, score=0.8807746, payload={'artist': 'Dion', 'genre': 'pop', 'name': 'All I Want to Do Is Live My Life', 'subgenres': ['pop---ballad'], 'urls': '../data/unstructured/ludwig-music-dataset-moods-and-subgenres/mp3/mp3/pop/2TApdD56ohXxrpPL6tMKeh.mp3'}, vector=None, shard_key=None),\n",
       " ScoredPoint(id=468, version=0, score=0.88056505, payload={'artist': 'Beth Carvalho', 'genre': 'latin', 'name': 'Camarão que dorme a onda leva (feat. Zeca Pagodinho)', 'subgenres': ['latin---samba'], 'urls': '../data/unstructured/ludwig-music-dataset-moods-and-subgenres/mp3/mp3/latin/5a8O0CAraAuR4iLZXg0s46.mp3'}, vector=None, shard_key=None),\n",
       " ScoredPoint(id=394, version=0, score=0.8753299, payload={'artist': 'Adriana Calcanhotto', 'genre': 'latin', 'name': 'Eu vivo a sorrir', 'subgenres': ['latin---samba'], 'urls': '../data/unstructured/ludwig-music-dataset-moods-and-subgenres/mp3/mp3/latin/2VvvGYUy2KT7DWI38wQsum.mp3'}, vector=None, shard_key=None),\n",
       " ScoredPoint(id=304, version=0, score=0.86826485, payload={'artist': 'Lidia Damunt', 'genre': 'pop', 'name': 'Echo a correr', 'subgenres': ['pop---indie pop'], 'urls': '../data/unstructured/ludwig-music-dataset-moods-and-subgenres/mp3/mp3/pop/5S73dTiCuLI4qVMZVSsXQT.mp3'}, vector=None, shard_key=None),\n",
       " ScoredPoint(id=248, version=0, score=0.86484134, payload={'artist': 'Orchestra Baobab', 'genre': 'latin', 'name': 'Nijaay', 'subgenres': ['latin---reggae'], 'urls': '../data/unstructured/ludwig-music-dataset-moods-and-subgenres/mp3/mp3/reggae/3rZn8W62JE6eZrzBLZw95D.mp3'}, vector=None, shard_key=None),\n",
       " ScoredPoint(id=53, version=0, score=0.860534, payload={'artist': 'Pepeu Gomes', 'genre': 'rock', 'name': 'Didilhando', 'subgenres': ['rock---pop rock'], 'urls': '../data/unstructured/ludwig-music-dataset-moods-and-subgenres/mp3/mp3/rock/3ZfS4PfFaZXoYsLPYtk3nA.mp3'}, vector=None, shard_key=None),\n",
       " ScoredPoint(id=246, version=0, score=0.86033726, payload={'artist': 'Orchestra Baobab', 'genre': 'latin', 'name': 'Jirim', 'subgenres': ['latin---reggae'], 'urls': '../data/unstructured/ludwig-music-dataset-moods-and-subgenres/mp3/mp3/reggae/3h4C40HZSJxY6mSHSVRxB2.mp3'}, vector=None, shard_key=None),\n",
       " ScoredPoint(id=158, version=0, score=0.8600545, payload={'artist': 'Abuela Coca', 'genre': 'latin', 'name': 'El ritmo del barrio', 'subgenres': ['latin---reggae'], 'urls': '../data/unstructured/ludwig-music-dataset-moods-and-subgenres/mp3/mp3/reggae/69k95kcLEUzPbN5Kdeb0dw.mp3'}, vector=None, shard_key=None)]"
      ]
     },
     "execution_count": 34,
     "metadata": {},
     "output_type": "execute_result"
    }
   ],
   "source": [
    "client.search(\n",
    "    collection_name=my_collection,\n",
    "    query_vector=ds_pandas.iloc[510]['panns_embeddings'],\n",
    "    limit=10\n",
    ")"
   ]
  }
 ],
 "metadata": {
  "kernelspec": {
   "display_name": "pycon-colombia-2024-EBJdkA5w-py3.11",
   "language": "python",
   "name": "python3"
  },
  "language_info": {
   "codemirror_mode": {
    "name": "ipython",
    "version": 3
   },
   "file_extension": ".py",
   "mimetype": "text/x-python",
   "name": "python",
   "nbconvert_exporter": "python",
   "pygments_lexer": "ipython3",
   "version": "3.11.8"
  }
 },
 "nbformat": 4,
 "nbformat_minor": 2
}
